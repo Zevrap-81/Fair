{
 "cells": [
  {
   "cell_type": "code",
   "execution_count": 1,
   "metadata": {},
   "outputs": [],
   "source": [
    "import pandas as pd\n",
    "import json\n",
    "from ast import literal_eval"
   ]
  },
  {
   "cell_type": "code",
   "execution_count": 2,
   "metadata": {},
   "outputs": [],
   "source": [
    "df = pd.read_csv('./data/cv_result_data2.csv', index_col=0)"
   ]
  },
  {
   "cell_type": "code",
   "execution_count": 3,
   "metadata": {},
   "outputs": [],
   "source": [
    "df_raw = pd.read_csv('./data/ResumeDataSet_final.csv', index_col=0)"
   ]
  },
  {
   "cell_type": "code",
   "execution_count": 4,
   "metadata": {},
   "outputs": [
    {
     "data": {
      "text/plain": [
       "{'Blockchain',\n",
       " 'Data Science',\n",
       " 'DevOps Engineer',\n",
       " 'Electrical Engineering',\n",
       " 'Java Developer',\n",
       " 'Mechanical Engineer',\n",
       " 'Network Security Engineer',\n",
       " 'Python Developer',\n",
       " 'SAP Developer',\n",
       " 'Web Designing'}"
      ]
     },
     "execution_count": 4,
     "metadata": {},
     "output_type": "execute_result"
    }
   ],
   "source": [
    "set(df_raw['label'])"
   ]
  },
  {
   "cell_type": "code",
   "execution_count": 5,
   "metadata": {},
   "outputs": [
    {
     "data": {
      "text/plain": [
       "200"
      ]
     },
     "execution_count": 5,
     "metadata": {},
     "output_type": "execute_result"
    }
   ],
   "source": [
    "len(df_raw)"
   ]
  },
  {
   "cell_type": "code",
   "execution_count": 6,
   "metadata": {},
   "outputs": [
    {
     "data": {
      "text/plain": [
       "{'Blockchain',\n",
       " 'Data Science',\n",
       " 'DevOps Engineer',\n",
       " 'Electrical Engineering',\n",
       " 'Java Developer',\n",
       " 'Mechanical Engineer',\n",
       " 'Network Security Engineer',\n",
       " 'Python Developer',\n",
       " 'SAP Developer',\n",
       " 'Web Designing'}"
      ]
     },
     "execution_count": 6,
     "metadata": {},
     "output_type": "execute_result"
    }
   ],
   "source": [
    "set(df['job_label'])"
   ]
  },
  {
   "cell_type": "code",
   "execution_count": 33,
   "metadata": {},
   "outputs": [
    {
     "name": "stdout",
     "output_type": "stream",
     "text": [
      "[{'skill': 'Python', 'score': 80}, {'skill': 'MySQL', 'score': 20}, {'skill': 'C++', 'score': 20}]\n",
      "[{'skill': 'Python', 'score': 80}, {'skill': 'MySQL', 'score': 20}, {'skill': 'C++', 'score': 20}]\n",
      "---\n",
      "[{'skill': 'Python', 'score': 80}, {'skill': 'Django', 'score': 80}, {'skill': 'CSS', 'score': 80}, {'skill': 'HTML', 'score': 80}, {'skill': 'MySQL', 'score': 80}, {'skill': 'RESTful Web Services', 'score': 60}, {'skill': 'JSON', 'score': 60}, {'skill': 'Unix', 'score': 40}, {'skill': 'Mongodb', 'score': 40}, {'skill': 'Version Control', 'score': 40}, {'skill': 'Agile', 'score': 80}, {'skill': 'Scrum', 'score': 80}, {'skill': 'Web Services (REST)', 'score': 60}, {'skill': 'Github', 'score': 60}, {'skill': 'Jira', 'score': 60}, {'skill': 'SQLAlchemy', 'score': 40}, {'skill': 'Urllib', 'score': 40}]\n",
      "[{'skill': 'Python', 'score': 80}, {'skill': 'Django', 'score': 80}, {'skill': 'CSS', 'score': 80}, {'skill': 'HTML', 'score': 80}, {'skill': 'MySQL', 'score': 80}, {'skill': 'RESTful Web Services', 'score': 60}, {'skill': 'JSON', 'score': 60}, {'skill': 'Unix', 'score': 40}, {'skill': 'Mongodb', 'score': 40}, {'skill': 'Version Control', 'score': 40}, {'skill': 'Agile', 'score': 80}, {'skill': 'Scrum', 'score': 80}, {'skill': 'Web Services (REST)', 'score': 60}, {'skill': 'Github', 'score': 60}, {'skill': 'Jira', 'score': 60}, {'skill': 'SQLAlchemy', 'score': 40}, {'skill': 'Urllib', 'score': 40}]\n",
      "---\n",
      "[{'skill': 'Python development', 'score': 80}, {'skill': 'Python - MongoDB', 'score': 80}, {'skill': 'Python - MySql', 'score': 80}, {'skill': 'Python Cache & Memoization', 'score': 80}, {'skill': 'Python GIT', 'score': 80}, {'skill': 'Python PWS (Pivotal Web Service - Cloud Foundry)', 'score': 80}, {'skill': 'M3/Movex ERP development', 'score': 80}, {'skill': 'AS400 development of Movex/M3 ERP', 'score': 80}, {'skill': 'Stream Server development of Movex/M3 ERP', 'score': 80}, {'skill': 'M3 Java of Movex/M3 ERP', 'score': 80}, {'skill': 'RPG/400', 'score': 80}, {'skill': 'DB2/400', 'score': 80}, {'skill': 'CL/400', 'score': 80}, {'skill': 'SQL/400', 'score': 80}, {'skill': 'German A1 Level', 'score': 20}]\n",
      "[{'skill': 'Python development', 'score': 80}, {'skill': 'Python - MongoDB', 'score': 80}, {'skill': 'Python - MySql', 'score': 80}, {'skill': 'Python Cache & Memoization', 'score': 80}, {'skill': 'Python GIT', 'score': 80}, {'skill': 'Python PWS (Pivotal Web Service - Cloud Foundry)', 'score': 80}, {'skill': 'M3/Movex ERP development', 'score': 80}, {'skill': 'AS400 development of Movex/M3 ERP', 'score': 80}, {'skill': 'Stream Server development of Movex/M3 ERP', 'score': 80}, {'skill': 'M3 Java of Movex/M3 ERP', 'score': 80}, {'skill': 'RPG/400', 'score': 80}, {'skill': 'DB2/400', 'score': 80}, {'skill': 'CL/400', 'score': 80}, {'skill': 'SQL/400', 'score': 80}, {'skill': 'German A1 Level', 'score': 20}]\n",
      "---\n",
      "[{'skill': 'Python Developer', 'score': 100}, {'skill': 'Computer Science', 'score': 80}]\n",
      "[{'skill': 'Python Developer', 'score': 100}, {'skill': 'Computer Science', 'score': 80}]\n",
      "---\n",
      "[{'skill': 'Python', 'score': 100}, {'skill': 'Flask', 'score': 80}, {'skill': 'Restful', 'score': 80}, {'skill': 'Numpy', 'score': 20}, {'skill': 'MongoDB', 'score': 100}, {'skill': 'MySQL', 'score': 100}, {'skill': 'AS/400', 'score': 100}, {'skill': 'Java', 'score': 80}, {'skill': 'Stream serve', 'score': 80}]\n",
      "[{'skill': 'Python', 'score': 100}, {'skill': 'Flask', 'score': 80}, {'skill': 'Restful', 'score': 80}, {'skill': 'Numpy', 'score': 20}, {'skill': 'MongoDB', 'score': 100}, {'skill': 'MySQL', 'score': 100}, {'skill': 'AS/400', 'score': 100}, {'skill': 'Java', 'score': 80}, {'skill': 'Stream serve', 'score': 80}]\n",
      "---\n",
      "[{'skill': 'Python', 'score': 80}, {'skill': 'Tensorflow', 'score': 0}, {'skill': 'Numpy', 'score': 0}, {'skill': 'C', 'score': 0}, {'skill': 'C++', 'score': 20}, {'skill': 'MySQL', 'score': 20}, {'skill': 'Ubuntu', 'score': 0}, {'skill': 'Fedora', 'score': 0}, {'skill': 'Cent OS', 'score': 0}, {'skill': 'Windows', 'score': 0}]\n",
      "[{'skill': 'Python', 'score': 80}, {'skill': 'Tensorflow', 'score': 0}, {'skill': 'Numpy', 'score': 0}, {'skill': 'C', 'score': 0}, {'skill': 'C++', 'score': 20}, {'skill': 'MySQL', 'score': 20}, {'skill': 'Ubuntu', 'score': 0}, {'skill': 'Fedora', 'score': 0}, {'skill': 'Cent OS', 'score': 0}, {'skill': 'Windows', 'score': 0}]\n",
      "---\n",
      "[{'skill': 'Python Development (MongoDB/MySQL)', 'score': 100}, {'skill': 'AS/400 development', 'score': 100}, {'skill': 'Stream Server development of Movex/M3 ERP', 'score': 100}, {'skill': 'M3 Java of Movex/M3 ERP', 'score': 100}, {'skill': 'Python Flask', 'score': 80}, {'skill': 'Python Restful API development', 'score': 80}, {'skill': 'Python', 'score': 80}, {'skill': 'MySQL', 'score': 80}, {'skill': 'Debugging and Testing based on Python and AS/400', 'score': 80}, {'skill': 'German Language Proficiency (A1 Level)', 'score': 80}, {'skill': 'Agile Methodology', 'score': 80}, {'skill': 'SDLC (Software Development Life Cycle)', 'score': 80}, {'skill': 'Communication skills', 'score': 80}, {'skill': 'Interpersonal skills', 'score': 80}, {'skill': 'Java', 'score': 20}, {'skill': 'HTML, CSS', 'score': 20}]\n",
      "[{'skill': 'Python Development (MongoDB/MySQL)', 'score': 100}, {'skill': 'AS/400 development', 'score': 100}, {'skill': 'Stream Server development of Movex/M3 ERP', 'score': 100}, {'skill': 'M3 Java of Movex/M3 ERP', 'score': 100}, {'skill': 'Python Flask', 'score': 80}, {'skill': 'Python Restful API development', 'score': 80}, {'skill': 'Python', 'score': 80}, {'skill': 'MySQL', 'score': 80}, {'skill': 'Debugging and Testing based on Python and AS/400', 'score': 80}, {'skill': 'German Language Proficiency (A1 Level)', 'score': 80}, {'skill': 'Agile Methodology', 'score': 80}, {'skill': 'SDLC (Software Development Life Cycle)', 'score': 80}, {'skill': 'Communication skills', 'score': 80}, {'skill': 'Interpersonal skills', 'score': 80}, {'skill': 'Java', 'score': 20}, {'skill': 'HTML, CSS', 'score': 20}]\n",
      "---\n",
      "[{'skill': 'Python scripting', 'score': 80}, {'skill': 'Programming', 'score': 80}, {'skill': 'Developing', 'score': 80}, {'skill': 'HTML', 'score': 20}, {'skill': 'Python library', 'score': 100}, {'skill': 'MySQL', 'score': 80}, {'skill': 'Django', 'score': 80}, {'skill': 'Web scraping', 'score': 80}]\n",
      "[{'skill': 'Python scripting', 'score': 80}, {'skill': 'Programming', 'score': 80}, {'skill': 'Developing', 'score': 80}, {'skill': 'HTML', 'score': 20}, {'skill': 'Python library', 'score': 100}, {'skill': 'MySQL', 'score': 80}, {'skill': 'Django', 'score': 80}, {'skill': 'Web scraping', 'score': 80}]\n",
      "---\n",
      "[{'skill': 'Python scripting', 'score': 80}, {'skill': 'Programming', 'score': 80}, {'skill': 'mysql', 'score': 80}, {'skill': 'Django', 'score': 80}, {'skill': 'HTML', 'score': 20}, {'skill': 'Web scrapping', 'score': 80}, {'skill': 'Python library (numpy, pandas, matplotlib, requests, beautiful soup)', 'score': 80}, {'skill': 'C', 'score': 20}, {'skill': 'C++', 'score': 20}, {'skill': 'Java', 'score': 20}]\n",
      "[{'skill': 'Python scripting', 'score': 80}, {'skill': 'Programming', 'score': 80}, {'skill': 'mysql', 'score': 80}, {'skill': 'Django', 'score': 80}, {'skill': 'HTML', 'score': 20}, {'skill': 'Web scrapping', 'score': 80}, {'skill': 'Python library (numpy, pandas, matplotlib, requests, beautiful soup)', 'score': 80}, {'skill': 'C', 'score': 20}, {'skill': 'C++', 'score': 20}, {'skill': 'Java', 'score': 20}]\n",
      "---\n",
      "[{'skill': 'Python scripting', 'score': 80}, {'skill': 'Python development', 'score': 80}, {'skill': 'Frontend development (HTML)', 'score': 20}, {'skill': 'Python library (Numpy, Pandas, Matplotlib, Requests, Beautiful Soup)', 'score': 80}, {'skill': 'MySQL', 'score': 80}, {'skill': 'Django', 'score': 80}, {'skill': 'Web scraping', 'score': 80}, {'skill': 'C', 'score': 20}, {'skill': 'C++', 'score': 20}, {'skill': 'Java', 'score': 20}, {'skill': 'GUI development (Tk, Java)', 'score': 20}, {'skill': 'MS Excel', 'score': 0}, {'skill': 'MS Office', 'score': 0}, {'skill': 'MS Power Point', 'score': 0}]\n",
      "[{'skill': 'Python scripting', 'score': 80}, {'skill': 'Python development', 'score': 80}, {'skill': 'Frontend development (HTML)', 'score': 20}, {'skill': 'Python library (Numpy, Pandas, Matplotlib, Requests, Beautiful Soup)', 'score': 80}, {'skill': 'MySQL', 'score': 80}, {'skill': 'Django', 'score': 80}, {'skill': 'Web scraping', 'score': 80}, {'skill': 'C', 'score': 20}, {'skill': 'C++', 'score': 20}, {'skill': 'Java', 'score': 20}, {'skill': 'GUI development (Tk, Java)', 'score': 20}, {'skill': 'MS Excel', 'score': 0}, {'skill': 'MS Office', 'score': 0}, {'skill': 'MS Power Point', 'score': 0}]\n",
      "---\n",
      "[{'skill': 'Python scripting', 'score': 100}, {'skill': 'Programming', 'score': 80}, {'skill': 'Developing', 'score': 80}, {'skill': 'Frontend', 'score': 20}, {'skill': 'HTML', 'score': 80}, {'skill': 'Python library', 'score': 100}, {'skill': 'Numpy', 'score': 80}, {'skill': 'Pandas', 'score': 80}, {'skill': 'Matplotlib', 'score': 80}, {'skill': 'Requests', 'score': 80}, {'skill': 'Beautiful Soup', 'score': 80}, {'skill': 'MySQL', 'score': 80}, {'skill': 'Django', 'score': 80}, {'skill': 'Web scrapping', 'score': 80}]\n",
      "[{'skill': 'Python scripting', 'score': 100}, {'skill': 'Programming', 'score': 80}, {'skill': 'Developing', 'score': 80}, {'skill': 'Frontend', 'score': 20}, {'skill': 'HTML', 'score': 80}, {'skill': 'Python library', 'score': 100}, {'skill': 'Numpy', 'score': 80}, {'skill': 'Pandas', 'score': 80}, {'skill': 'Matplotlib', 'score': 80}, {'skill': 'Requests', 'score': 80}, {'skill': 'Beautiful Soup', 'score': 80}, {'skill': 'MySQL', 'score': 80}, {'skill': 'Django', 'score': 80}, {'skill': 'Web scrapping', 'score': 80}]\n",
      "---\n",
      "[{'skill': 'Python', 'score': 100}, {'skill': 'MySQL', 'score': 80}, {'skill': 'C++', 'score': 20}]\n",
      "[{'skill': 'Python', 'score': 100}, {'skill': 'MySQL', 'score': 80}, {'skill': 'C++', 'score': 20}]\n",
      "---\n",
      "[{'skill': 'Python', 'score': 80}, {'skill': 'Database', 'score': 20}, {'skill': 'MYSQL', 'score': 20}, {'skill': 'DJANGO', 'score': 80}, {'skill': 'HTML5', 'score': 20}, {'skill': 'REST API', 'score': 20}, {'skill': 'OpenCV', 'score': 80}, {'skill': 'PIL', 'score': 80}, {'skill': 'Numpy', 'score': 80}, {'skill': 'Git', 'score': 80}]\n",
      "[{'skill': 'Python', 'score': 80}, {'skill': 'Database', 'score': 20}, {'skill': 'MYSQL', 'score': 20}, {'skill': 'DJANGO', 'score': 80}, {'skill': 'HTML5', 'score': 20}, {'skill': 'REST API', 'score': 20}, {'skill': 'OpenCV', 'score': 80}, {'skill': 'PIL', 'score': 80}, {'skill': 'Numpy', 'score': 80}, {'skill': 'Git', 'score': 80}]\n",
      "---\n",
      "[{'skill': 'Python development', 'score': 80}, {'skill': 'Python - MongoDB', 'score': 80}, {'skill': 'Python - MySql', 'score': 80}, {'skill': 'Python Cache & Memoization', 'score': 80}, {'skill': 'Python GIT', 'score': 80}, {'skill': 'Python PWS (Pivotal Web Service - Cloud Foundry)', 'score': 80}, {'skill': 'M3/Movex ERP development', 'score': 80}, {'skill': 'AS400 development of Movex/M3 ERP', 'score': 80}, {'skill': 'Stream Server development of Movex/M3 ERP', 'score': 80}, {'skill': 'RPG/400, CL/400, ILE RPG, ILE CL, DB2/400, QUERY400 and SQL/400', 'score': 80}, {'skill': 'Flask', 'score': 20}, {'skill': 'Restful API', 'score': 20}]\n",
      "[{'skill': 'Python development', 'score': 80}, {'skill': 'Python - MongoDB', 'score': 80}, {'skill': 'Python - MySql', 'score': 80}, {'skill': 'Python Cache & Memoization', 'score': 80}, {'skill': 'Python GIT', 'score': 80}, {'skill': 'Python PWS (Pivotal Web Service - Cloud Foundry)', 'score': 80}, {'skill': 'M3/Movex ERP development', 'score': 80}, {'skill': 'AS400 development of Movex/M3 ERP', 'score': 80}, {'skill': 'Stream Server development of Movex/M3 ERP', 'score': 80}, {'skill': 'RPG/400, CL/400, ILE RPG, ILE CL, DB2/400, QUERY400 and SQL/400', 'score': 80}, {'skill': 'Flask', 'score': 20}, {'skill': 'Restful API', 'score': 20}]\n",
      "---\n",
      "[{'skill': 'Python', 'score': 80}, {'skill': 'MongoDB', 'score': 80}, {'skill': 'MySQL', 'score': 80}, {'skill': 'AS/400', 'score': 100}, {'skill': 'Java', 'score': 20}, {'skill': 'Flask', 'score': 20}, {'skill': 'Restful', 'score': 20}, {'skill': 'Numpy', 'score': 20}, {'skill': 'HTML', 'score': 20}, {'skill': 'CSS', 'score': 20}]\n",
      "[{'skill': 'Python', 'score': 80}, {'skill': 'MongoDB', 'score': 80}, {'skill': 'MySQL', 'score': 80}, {'skill': 'AS/400', 'score': 100}, {'skill': 'Java', 'score': 20}, {'skill': 'Flask', 'score': 20}, {'skill': 'Restful', 'score': 20}, {'skill': 'Numpy', 'score': 20}, {'skill': 'HTML', 'score': 20}, {'skill': 'CSS', 'score': 20}]\n",
      "---\n",
      "[{'skill': 'Python Developer', 'score': 100}]\n",
      "[{'skill': 'Python Developer', 'score': 100}]\n",
      "---\n",
      "[{'skill': 'Python', 'score': 80}, {'skill': 'MySQL', 'score': 20}, {'skill': 'C++', 'score': 20}]\n",
      "[{'skill': 'Python', 'score': 80}, {'skill': 'MySQL', 'score': 20}, {'skill': 'C++', 'score': 20}]\n",
      "---\n",
      "[{'skill': 'Python', 'score': 80}, {'skill': 'C++', 'score': 20}, {'skill': 'MYSQL', 'score': 20}]\n",
      "[{'skill': 'Python', 'score': 80}, {'skill': 'C++', 'score': 20}, {'skill': 'MYSQL', 'score': 20}]\n",
      "---\n",
      "[{'skill': 'python scripting', 'score': 80}, {'skill': 'programming', 'score': 80}, {'skill': 'python library', 'score': 80}, {'skill': 'mysql', 'score': 80}, {'skill': 'django', 'score': 80}, {'skill': 'html', 'score': 20}, {'skill': 'web scrapping', 'score': 20}]\n",
      "[{'skill': 'python scripting', 'score': 80}, {'skill': 'programming', 'score': 80}, {'skill': 'python library', 'score': 80}, {'skill': 'mysql', 'score': 80}, {'skill': 'django', 'score': 80}, {'skill': 'html', 'score': 20}, {'skill': 'web scrapping', 'score': 20}]\n",
      "---\n",
      "19\n"
     ]
    }
   ],
   "source": [
    "count = 0\n",
    "for i, row in df[df['job_label'] == 'Python Developer'].iterrows():\n",
    "    print(literal_eval(row['skills']))\n",
    "    print(literal_eval(df_raw[df_raw['label'] == 'Python Developer']['skill_eval_gpt'][i])['skills'])\n",
    "    print('---')\n",
    "    count+=1\n",
    "print(count)"
   ]
  },
  {
   "cell_type": "code",
   "execution_count": 8,
   "metadata": {},
   "outputs": [
    {
     "data": {
      "text/plain": [
       "[{'skill': 'Autocad', 'score': 80},\n",
       " {'skill': 'Catia V5', 'score': 100},\n",
       " {'skill': 'MS office', 'score': 80},\n",
       " {'skill': 'ProE', 'score': 0}]"
      ]
     },
     "execution_count": 8,
     "metadata": {},
     "output_type": "execute_result"
    }
   ],
   "source": [
    "INDEX = 19\n",
    "literal_eval(df[df['job_label'] == 'Mechanical Engineer']['skills'].iloc[INDEX])"
   ]
  },
  {
   "cell_type": "code",
   "execution_count": 89,
   "metadata": {},
   "outputs": [],
   "source": [
    "missing = df_raw[df_raw['label'] == 'Python Developer'].iloc[INDEX]"
   ]
  },
  {
   "cell_type": "code",
   "execution_count": 91,
   "metadata": {},
   "outputs": [
    {
     "data": {
      "text/plain": [
       "[{'skill': 'Python', 'score': 100},\n",
       " {'skill': 'Django', 'score': 100},\n",
       " {'skills': 'CSS', 'score': 80},\n",
       " {'skill': 'HTML', 'score': 80},\n",
       " {'skill': 'MYSQL', 'score': 80},\n",
       " {'skill': 'Web Services (REST)', 'score': 80},\n",
       " {'skill': 'JSON', 'score': 80},\n",
       " {'skill': 'Agile', 'score': 80},\n",
       " {'skill': 'Scrum', 'score': 80},\n",
       " {'skill': 'Github', 'score': 80},\n",
       " {'skill': 'JIRA', 'score': 80},\n",
       " {'skill': 'Unix', 'score': 20},\n",
       " {'skill': 'Mongodb', 'score': 20}]"
      ]
     },
     "execution_count": 91,
     "metadata": {},
     "output_type": "execute_result"
    }
   ],
   "source": [
    "literal_eval(missing['skill_eval_gpt'])['skills']"
   ]
  },
  {
   "cell_type": "code",
   "execution_count": 93,
   "metadata": {},
   "outputs": [],
   "source": [
    "add_DF = pd.DataFrame([{\n",
    "    'job_label': 'Python Developer',\n",
    "    'skills': literal_eval(missing['skill_eval_gpt'])['skills'],\n",
    "    'file_label': 'none'}])"
   ]
  },
  {
   "cell_type": "code",
   "execution_count": 94,
   "metadata": {},
   "outputs": [],
   "source": [
    "df = pd.concat([df, add_DF], ignore_index=True)"
   ]
  },
  {
   "cell_type": "code",
   "execution_count": 27,
   "metadata": {},
   "outputs": [
    {
     "data": {
      "text/plain": [
       "20"
      ]
     },
     "execution_count": 27,
     "metadata": {},
     "output_type": "execute_result"
    }
   ],
   "source": [
    "len(df_raw[df_raw['label'] == 'Python Developer']['skill_eval_gpt'])"
   ]
  },
  {
   "cell_type": "code",
   "execution_count": 10,
   "metadata": {},
   "outputs": [],
   "source": [
    "df_new = df[df['job_label'] != \"[{'skill': 'CSS', 'score': 80}]\"]"
   ]
  },
  {
   "cell_type": "code",
   "execution_count": 8,
   "metadata": {},
   "outputs": [
    {
     "data": {
      "text/html": [
       "<div>\n",
       "<style scoped>\n",
       "    .dataframe tbody tr th:only-of-type {\n",
       "        vertical-align: middle;\n",
       "    }\n",
       "\n",
       "    .dataframe tbody tr th {\n",
       "        vertical-align: top;\n",
       "    }\n",
       "\n",
       "    .dataframe thead th {\n",
       "        text-align: right;\n",
       "    }\n",
       "</style>\n",
       "<table border=\"1\" class=\"dataframe\">\n",
       "  <thead>\n",
       "    <tr style=\"text-align: right;\">\n",
       "      <th></th>\n",
       "      <th>skills</th>\n",
       "      <th>file_label</th>\n",
       "    </tr>\n",
       "    <tr>\n",
       "      <th>job_label</th>\n",
       "      <th></th>\n",
       "      <th></th>\n",
       "    </tr>\n",
       "  </thead>\n",
       "  <tbody>\n",
       "    <tr>\n",
       "      <th>Blockchain</th>\n",
       "      <td>20</td>\n",
       "      <td>20</td>\n",
       "    </tr>\n",
       "    <tr>\n",
       "      <th>Data Science</th>\n",
       "      <td>20</td>\n",
       "      <td>20</td>\n",
       "    </tr>\n",
       "    <tr>\n",
       "      <th>DevOps Engineer</th>\n",
       "      <td>20</td>\n",
       "      <td>20</td>\n",
       "    </tr>\n",
       "    <tr>\n",
       "      <th>Electrical Engineering</th>\n",
       "      <td>20</td>\n",
       "      <td>20</td>\n",
       "    </tr>\n",
       "    <tr>\n",
       "      <th>Java Developer</th>\n",
       "      <td>20</td>\n",
       "      <td>20</td>\n",
       "    </tr>\n",
       "    <tr>\n",
       "      <th>Mechanical Engineer</th>\n",
       "      <td>20</td>\n",
       "      <td>20</td>\n",
       "    </tr>\n",
       "    <tr>\n",
       "      <th>Network Security Engineer</th>\n",
       "      <td>20</td>\n",
       "      <td>20</td>\n",
       "    </tr>\n",
       "    <tr>\n",
       "      <th>Python Developer</th>\n",
       "      <td>20</td>\n",
       "      <td>20</td>\n",
       "    </tr>\n",
       "    <tr>\n",
       "      <th>SAP Developer</th>\n",
       "      <td>20</td>\n",
       "      <td>20</td>\n",
       "    </tr>\n",
       "    <tr>\n",
       "      <th>Web Designing</th>\n",
       "      <td>20</td>\n",
       "      <td>20</td>\n",
       "    </tr>\n",
       "  </tbody>\n",
       "</table>\n",
       "</div>"
      ],
      "text/plain": [
       "                           skills  file_label\n",
       "job_label                                    \n",
       "Blockchain                     20          20\n",
       "Data Science                   20          20\n",
       "DevOps Engineer                20          20\n",
       "Electrical Engineering         20          20\n",
       "Java Developer                 20          20\n",
       "Mechanical Engineer            20          20\n",
       "Network Security Engineer      20          20\n",
       "Python Developer               20          20\n",
       "SAP Developer                  20          20\n",
       "Web Designing                  20          20"
      ]
     },
     "execution_count": 8,
     "metadata": {},
     "output_type": "execute_result"
    }
   ],
   "source": [
    "df.groupby(df['job_label']).count()"
   ]
  },
  {
   "cell_type": "code",
   "execution_count": 12,
   "metadata": {},
   "outputs": [
    {
     "data": {
      "text/plain": [
       "199"
      ]
     },
     "execution_count": 12,
     "metadata": {},
     "output_type": "execute_result"
    }
   ],
   "source": [
    "len(df_new)"
   ]
  },
  {
   "cell_type": "code",
   "execution_count": 9,
   "metadata": {},
   "outputs": [
    {
     "data": {
      "text/html": [
       "<div>\n",
       "<style scoped>\n",
       "    .dataframe tbody tr th:only-of-type {\n",
       "        vertical-align: middle;\n",
       "    }\n",
       "\n",
       "    .dataframe tbody tr th {\n",
       "        vertical-align: top;\n",
       "    }\n",
       "\n",
       "    .dataframe thead th {\n",
       "        text-align: right;\n",
       "    }\n",
       "</style>\n",
       "<table border=\"1\" class=\"dataframe\">\n",
       "  <thead>\n",
       "    <tr style=\"text-align: right;\">\n",
       "      <th></th>\n",
       "      <th>job_label</th>\n",
       "      <th>skills</th>\n",
       "      <th>file_label</th>\n",
       "    </tr>\n",
       "  </thead>\n",
       "  <tbody>\n",
       "    <tr>\n",
       "      <th>0</th>\n",
       "      <td>Data Science</td>\n",
       "      <td>[{'skill': 'Data Structure', 'score': 80}, {'s...</td>\n",
       "      <td>none</td>\n",
       "    </tr>\n",
       "    <tr>\n",
       "      <th>1</th>\n",
       "      <td>Data Science</td>\n",
       "      <td>[{'skill': 'Python', 'score': 80}, {'skill': '...</td>\n",
       "      <td>none</td>\n",
       "    </tr>\n",
       "    <tr>\n",
       "      <th>2</th>\n",
       "      <td>Data Science</td>\n",
       "      <td>[{'skill': 'Machine Learning', 'score': 100}, ...</td>\n",
       "      <td>none</td>\n",
       "    </tr>\n",
       "    <tr>\n",
       "      <th>3</th>\n",
       "      <td>Data Science</td>\n",
       "      <td>[{'skill': 'Numpy', 'score': 80}, {'skill': 'M...</td>\n",
       "      <td>none</td>\n",
       "    </tr>\n",
       "    <tr>\n",
       "      <th>4</th>\n",
       "      <td>Data Science</td>\n",
       "      <td>[{'skill': 'Data Structure', 'score': 80}, {'s...</td>\n",
       "      <td>none</td>\n",
       "    </tr>\n",
       "  </tbody>\n",
       "</table>\n",
       "</div>"
      ],
      "text/plain": [
       "      job_label                                             skills file_label\n",
       "0  Data Science  [{'skill': 'Data Structure', 'score': 80}, {'s...       none\n",
       "1  Data Science  [{'skill': 'Python', 'score': 80}, {'skill': '...       none\n",
       "2  Data Science  [{'skill': 'Machine Learning', 'score': 100}, ...       none\n",
       "3  Data Science  [{'skill': 'Numpy', 'score': 80}, {'skill': 'M...       none\n",
       "4  Data Science  [{'skill': 'Data Structure', 'score': 80}, {'s...       none"
      ]
     },
     "execution_count": 9,
     "metadata": {},
     "output_type": "execute_result"
    }
   ],
   "source": [
    "df.head()"
   ]
  },
  {
   "cell_type": "code",
   "execution_count": 17,
   "metadata": {},
   "outputs": [],
   "source": [
    "for i, row in df.iterrows():\n",
    "    skills = literal_eval(row['skills'])\n",
    "    for skill in skills:\n",
    "        try:\n",
    "            if type(skill['score']) != int:\n",
    "                print('Error: ', skill)\n",
    "            if type(skill['skill']) != str:\n",
    "                print('Error: ', skill)\n",
    "        except Exception as e:\n",
    "            #df.iloc[i] = str([{'skill': skill['skills'], 'score': skill['score']}])\n",
    "            print(skill)"
   ]
  },
  {
   "cell_type": "code",
   "execution_count": 26,
   "metadata": {},
   "outputs": [
    {
     "data": {
      "text/plain": [
       "[{'skill': 'Data Structure', 'score': 80},\n",
       " {'skill': 'C', 'score': 80},\n",
       " {'skill': 'Data Analysis', 'score': 80},\n",
       " {'skill': 'Python', 'score': 80},\n",
       " {'skill': 'Core Java', 'score': 80},\n",
       " {'skill': 'Database Management', 'score': 80}]"
      ]
     },
     "execution_count": 26,
     "metadata": {},
     "output_type": "execute_result"
    }
   ],
   "source": [
    "literal_eval(df['skills'][0])"
   ]
  },
  {
   "cell_type": "code",
   "execution_count": 48,
   "metadata": {},
   "outputs": [],
   "source": [
    "for i, row in df.iterrows():\n",
    "    if type(row['skills']) == str:\n",
    "        skill_str = row['skills'].replace(\"'\", \"\\\"\")\n",
    "        df.at[i, 'skills'] = literal_eval(skill_str)\n",
    "    try:\n",
    "        if type(literal_eval(skill_str)) != list:\n",
    "            print(i)\n",
    "            #print(row['skills'])\n",
    "            print(type(row['skills']))\n",
    "    except Exception as e:\n",
    "        print(e)"
   ]
  },
  {
   "cell_type": "code",
   "execution_count": 30,
   "metadata": {},
   "outputs": [],
   "source": [
    "df = df.rename(columns={'label': 'job_label', 'skill_eval_gpt': 'skills'})"
   ]
  },
  {
   "cell_type": "code",
   "execution_count": 35,
   "metadata": {},
   "outputs": [],
   "source": [
    "df['file_label'] = 'none'"
   ]
  },
  {
   "cell_type": "code",
   "execution_count": 56,
   "metadata": {},
   "outputs": [
    {
     "name": "stdout",
     "output_type": "stream",
     "text": [
      "[{'skill': 'software sales', 'score': 80}]\n",
      "[{'skill': 'software sales', 'score': 80}]\n"
     ]
    }
   ],
   "source": [
    "for i, row in df.iterrows():\n",
    "    skills = literal_eval(row['skills'])\n",
    "    if len(skills) == 1:\n",
    "        # print(skills)\n",
    "        try:\n",
    "            print(skills)\n",
    "            df.at[i, \"skills\"] = skills[\"results\"]\n",
    "        except:\n",
    "            try:\n",
    "                print(skills)\n",
    "                df.at[i, \"skills\"] = skills[\"skills\"]\n",
    "            except:\n",
    "                pass"
   ]
  },
  {
   "cell_type": "code",
   "execution_count": 99,
   "metadata": {},
   "outputs": [],
   "source": [
    "df.to_csv('./data/cv_result_data2.csv')"
   ]
  },
  {
   "cell_type": "code",
   "execution_count": null,
   "metadata": {},
   "outputs": [],
   "source": []
  },
  {
   "cell_type": "code",
   "execution_count": 28,
   "metadata": {},
   "outputs": [],
   "source": [
    "df.drop('gender_terms', axis=1, inplace=True)"
   ]
  },
  {
   "cell_type": "code",
   "execution_count": 12,
   "metadata": {},
   "outputs": [
    {
     "data": {
      "text/plain": [
       "[{'skill': 'Analytical and problem solving skills', 'score': 80},\n",
       " {'skill': 'Detail-oriented', 'score': 80},\n",
       " {'skill': 'Excellent communication and presentation skills', 'score': 80},\n",
       " {'skill': 'Solid understanding of database technologies, data analytics, and reporting tools',\n",
       "  'score': 80},\n",
       " {'skill': 'Strong working knowledge of Excel and Google Sheets', 'score': 80},\n",
       " {'skill': 'Prior experience with any variant of SQL', 'score': 80},\n",
       " {'skill': 'Experience with Google Analytics or other web analytical tools',\n",
       "  'score': 80},\n",
       " {'skill': 'Experience with data visualization tools like Looker',\n",
       "  'score': 80}]"
      ]
     },
     "execution_count": 12,
     "metadata": {},
     "output_type": "execute_result"
    }
   ],
   "source": [
    "json.loads(df['skill_eval_gpt'][0].strip())['skills']"
   ]
  },
  {
   "cell_type": "code",
   "execution_count": null,
   "metadata": {},
   "outputs": [],
   "source": []
  },
  {
   "cell_type": "code",
   "execution_count": 9,
   "metadata": {},
   "outputs": [
    {
     "data": {
      "text/html": [
       "<div>\n",
       "<style scoped>\n",
       "    .dataframe tbody tr th:only-of-type {\n",
       "        vertical-align: middle;\n",
       "    }\n",
       "\n",
       "    .dataframe tbody tr th {\n",
       "        vertical-align: top;\n",
       "    }\n",
       "\n",
       "    .dataframe thead th {\n",
       "        text-align: right;\n",
       "    }\n",
       "</style>\n",
       "<table border=\"1\" class=\"dataframe\">\n",
       "  <thead>\n",
       "    <tr style=\"text-align: right;\">\n",
       "      <th></th>\n",
       "      <th>job_label</th>\n",
       "      <th>skills</th>\n",
       "      <th>file_label</th>\n",
       "    </tr>\n",
       "  </thead>\n",
       "  <tbody>\n",
       "    <tr>\n",
       "      <th>40</th>\n",
       "      <td>Mechanical Engineer</td>\n",
       "      <td>[{'skill': 'Microsoft Office', 'score': 80}, {...</td>\n",
       "      <td>none</td>\n",
       "    </tr>\n",
       "    <tr>\n",
       "      <th>41</th>\n",
       "      <td>Mechanical Engineer</td>\n",
       "      <td>[{'skill': 'Knowledge of software / computer (...</td>\n",
       "      <td>none</td>\n",
       "    </tr>\n",
       "    <tr>\n",
       "      <th>42</th>\n",
       "      <td>Mechanical Engineer</td>\n",
       "      <td>[{'skill': 'Application Engineering', 'score':...</td>\n",
       "      <td>none</td>\n",
       "    </tr>\n",
       "    <tr>\n",
       "      <th>43</th>\n",
       "      <td>Mechanical Engineer</td>\n",
       "      <td>[{'skill': 'Microsoft Office - Word ,Excel,Aut...</td>\n",
       "      <td>none</td>\n",
       "    </tr>\n",
       "    <tr>\n",
       "      <th>44</th>\n",
       "      <td>Mechanical Engineer</td>\n",
       "      <td>[{'skill': 'Leadership', 'score': 80}, {'skill...</td>\n",
       "      <td>none</td>\n",
       "    </tr>\n",
       "    <tr>\n",
       "      <th>45</th>\n",
       "      <td>Mechanical Engineer</td>\n",
       "      <td>[{'skill': 'Microsoft Office (Word, Excel)', '...</td>\n",
       "      <td>none</td>\n",
       "    </tr>\n",
       "    <tr>\n",
       "      <th>46</th>\n",
       "      <td>Mechanical Engineer</td>\n",
       "      <td>[{'skill': 'Mechanical Engineering', 'score': ...</td>\n",
       "      <td>none</td>\n",
       "    </tr>\n",
       "    <tr>\n",
       "      <th>47</th>\n",
       "      <td>Mechanical Engineer</td>\n",
       "      <td>[{'skill': 'Autocad', 'score': 80}, {'skill': ...</td>\n",
       "      <td>none</td>\n",
       "    </tr>\n",
       "    <tr>\n",
       "      <th>48</th>\n",
       "      <td>Mechanical Engineer</td>\n",
       "      <td>[{'skill': 'Microsoft Office', 'score': 80}, {...</td>\n",
       "      <td>none</td>\n",
       "    </tr>\n",
       "    <tr>\n",
       "      <th>49</th>\n",
       "      <td>Mechanical Engineer</td>\n",
       "      <td>[{'skill': 'Microsoft office', 'score': 80}, {...</td>\n",
       "      <td>none</td>\n",
       "    </tr>\n",
       "    <tr>\n",
       "      <th>50</th>\n",
       "      <td>Mechanical Engineer</td>\n",
       "      <td>[{'skill': 'Autocad', 'score': 80}, {'skill': ...</td>\n",
       "      <td>none</td>\n",
       "    </tr>\n",
       "    <tr>\n",
       "      <th>51</th>\n",
       "      <td>Mechanical Engineer</td>\n",
       "      <td>[{'skill': 'Knowledge of AutoCAD', 'score': 80...</td>\n",
       "      <td>none</td>\n",
       "    </tr>\n",
       "    <tr>\n",
       "      <th>52</th>\n",
       "      <td>Mechanical Engineer</td>\n",
       "      <td>[{'skill': 'Microsoft Office -Word ,Excel,Auto...</td>\n",
       "      <td>none</td>\n",
       "    </tr>\n",
       "    <tr>\n",
       "      <th>53</th>\n",
       "      <td>Mechanical Engineer</td>\n",
       "      <td>[{'skill': 'Knowledge of software / computer: ...</td>\n",
       "      <td>none</td>\n",
       "    </tr>\n",
       "    <tr>\n",
       "      <th>54</th>\n",
       "      <td>Mechanical Engineer</td>\n",
       "      <td>[{'skill': 'AutoCAD', 'score': 80}, {'skill': ...</td>\n",
       "      <td>none</td>\n",
       "    </tr>\n",
       "    <tr>\n",
       "      <th>55</th>\n",
       "      <td>Mechanical Engineer</td>\n",
       "      <td>[{'skill': 'Knowledge of software / computer: ...</td>\n",
       "      <td>none</td>\n",
       "    </tr>\n",
       "    <tr>\n",
       "      <th>56</th>\n",
       "      <td>Mechanical Engineer</td>\n",
       "      <td>[{'skill': 'Leadership', 'score': 80}, {'skill...</td>\n",
       "      <td>none</td>\n",
       "    </tr>\n",
       "    <tr>\n",
       "      <th>57</th>\n",
       "      <td>Mechanical Engineer</td>\n",
       "      <td>[{'skill': 'Microsoft Office', 'score': 80}, {...</td>\n",
       "      <td>none</td>\n",
       "    </tr>\n",
       "    <tr>\n",
       "      <th>58</th>\n",
       "      <td>Mechanical Engineer</td>\n",
       "      <td>[{'skill': 'Mechanical Engineering', 'score': ...</td>\n",
       "      <td>none</td>\n",
       "    </tr>\n",
       "    <tr>\n",
       "      <th>59</th>\n",
       "      <td>Mechanical Engineer</td>\n",
       "      <td>[{'skill': 'Autocad', 'score': 80}, {'skill': ...</td>\n",
       "      <td>none</td>\n",
       "    </tr>\n",
       "  </tbody>\n",
       "</table>\n",
       "</div>"
      ],
      "text/plain": [
       "              job_label                                             skills  \\\n",
       "40  Mechanical Engineer  [{'skill': 'Microsoft Office', 'score': 80}, {...   \n",
       "41  Mechanical Engineer  [{'skill': 'Knowledge of software / computer (...   \n",
       "42  Mechanical Engineer  [{'skill': 'Application Engineering', 'score':...   \n",
       "43  Mechanical Engineer  [{'skill': 'Microsoft Office - Word ,Excel,Aut...   \n",
       "44  Mechanical Engineer  [{'skill': 'Leadership', 'score': 80}, {'skill...   \n",
       "45  Mechanical Engineer  [{'skill': 'Microsoft Office (Word, Excel)', '...   \n",
       "46  Mechanical Engineer  [{'skill': 'Mechanical Engineering', 'score': ...   \n",
       "47  Mechanical Engineer  [{'skill': 'Autocad', 'score': 80}, {'skill': ...   \n",
       "48  Mechanical Engineer  [{'skill': 'Microsoft Office', 'score': 80}, {...   \n",
       "49  Mechanical Engineer  [{'skill': 'Microsoft office', 'score': 80}, {...   \n",
       "50  Mechanical Engineer  [{'skill': 'Autocad', 'score': 80}, {'skill': ...   \n",
       "51  Mechanical Engineer  [{'skill': 'Knowledge of AutoCAD', 'score': 80...   \n",
       "52  Mechanical Engineer  [{'skill': 'Microsoft Office -Word ,Excel,Auto...   \n",
       "53  Mechanical Engineer  [{'skill': 'Knowledge of software / computer: ...   \n",
       "54  Mechanical Engineer  [{'skill': 'AutoCAD', 'score': 80}, {'skill': ...   \n",
       "55  Mechanical Engineer  [{'skill': 'Knowledge of software / computer: ...   \n",
       "56  Mechanical Engineer  [{'skill': 'Leadership', 'score': 80}, {'skill...   \n",
       "57  Mechanical Engineer  [{'skill': 'Microsoft Office', 'score': 80}, {...   \n",
       "58  Mechanical Engineer  [{'skill': 'Mechanical Engineering', 'score': ...   \n",
       "59  Mechanical Engineer  [{'skill': 'Autocad', 'score': 80}, {'skill': ...   \n",
       "\n",
       "   file_label  \n",
       "40       none  \n",
       "41       none  \n",
       "42       none  \n",
       "43       none  \n",
       "44       none  \n",
       "45       none  \n",
       "46       none  \n",
       "47       none  \n",
       "48       none  \n",
       "49       none  \n",
       "50       none  \n",
       "51       none  \n",
       "52       none  \n",
       "53       none  \n",
       "54       none  \n",
       "55       none  \n",
       "56       none  \n",
       "57       none  \n",
       "58       none  \n",
       "59       none  "
      ]
     },
     "execution_count": 9,
     "metadata": {},
     "output_type": "execute_result"
    }
   ],
   "source": [
    "df[df['job_label'] == 'Mechanical Engineer']"
   ]
  },
  {
   "cell_type": "code",
   "execution_count": 15,
   "metadata": {},
   "outputs": [
    {
     "data": {
      "text/plain": [
       "[{'skill': 'Leadership', 'score': 80},\n",
       " {'skill': 'Event Management', 'score': 80},\n",
       " {'skill': 'Project Management', 'score': 80},\n",
       " {'skill': 'Engineering', 'score': 20}]"
      ]
     },
     "execution_count": 15,
     "metadata": {},
     "output_type": "execute_result"
    }
   ],
   "source": [
    "literal_eval(df[df['job_label'] == 'Mechanical Engineer']['skills'].to_list()[4])"
   ]
  },
  {
   "cell_type": "code",
   "execution_count": null,
   "metadata": {},
   "outputs": [],
   "source": []
  },
  {
   "cell_type": "code",
   "execution_count": 24,
   "metadata": {},
   "outputs": [],
   "source": [
    "df_job = pd.read_csv('./data/job_announce_result_10.csv', index_col=0)"
   ]
  },
  {
   "cell_type": "code",
   "execution_count": 27,
   "metadata": {},
   "outputs": [],
   "source": [
    "df_job = pd.read_csv('./data/job_announce_result_final.csv', index_col=0)"
   ]
  },
  {
   "cell_type": "code",
   "execution_count": 41,
   "metadata": {},
   "outputs": [
    {
     "data": {
      "text/plain": [
       "{'skills': [{'skill': 'Comfort and familiarity with complex engineering tools',\n",
       "   'score': 80},\n",
       "  {'skill': 'Proficient in understanding the Ethereum ecosystem, blockchain explorers, and smart contracts',\n",
       "   'score': 80},\n",
       "  {'skill': 'Comfortable with Linux command-line operations to navigate and manage blockchain infrastructure efficiently',\n",
       "   'score': 80},\n",
       "  {'skill': 'Strong understanding of git version control and experience managing Github repositories',\n",
       "   'score': 80},\n",
       "  {'skill': 'Participate in a week-long on-call rotation schedule',\n",
       "   'score': 80},\n",
       "  {'skill': 'Software engineering degree/computer science background',\n",
       "   'score': 80},\n",
       "  {'skill': 'Experience with Crypto/blockchain, multisignature wallets, gnosis safes, or hardware wallets',\n",
       "   'score': 80},\n",
       "  {'skill': 'Startup experience', 'score': 20}]}"
      ]
     },
     "execution_count": 41,
     "metadata": {},
     "output_type": "execute_result"
    }
   ],
   "source": [
    "literal_eval(df_job[df_job['label'] == 'Blockchain']['skill_eval_gpt'][9])"
   ]
  }
 ],
 "metadata": {
  "kernelspec": {
   "display_name": "Python 3",
   "language": "python",
   "name": "python3"
  },
  "language_info": {
   "codemirror_mode": {
    "name": "ipython",
    "version": 3
   },
   "file_extension": ".py",
   "mimetype": "text/x-python",
   "name": "python",
   "nbconvert_exporter": "python",
   "pygments_lexer": "ipython3",
   "version": "3.10.4"
  }
 },
 "nbformat": 4,
 "nbformat_minor": 2
}
