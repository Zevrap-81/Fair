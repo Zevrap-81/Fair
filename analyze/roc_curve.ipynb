{
 "cells": [
  {
   "cell_type": "code",
   "execution_count": 1,
   "metadata": {},
   "outputs": [],
   "source": [
    "import pandas as pd\n",
    "import numpy as np\n",
    "from tqdm.notebook import tqdm\n",
    "import matplotlib.pyplot as plt\n",
    "import os\n",
    "import math"
   ]
  },
  {
   "cell_type": "code",
   "execution_count": 25,
   "metadata": {},
   "outputs": [],
   "source": [
    "df = pd.read_csv(\"./data/result_df/new_data_method2/concept_model_alt.csv\",  index_col=0)"
   ]
  },
  {
   "cell_type": "code",
   "execution_count": 14,
   "metadata": {},
   "outputs": [],
   "source": [
    "def calculate_fpr_tpr(df, threshold=0.75):\n",
    "    true_positive = np.array([])\n",
    "    true_negative = np.array([])\n",
    "\n",
    "    false_positive = np.array([])\n",
    "    false_negative = np.array([])\n",
    "\n",
    "    for i in range(len(df)):\n",
    "        if df.iloc[i][\"cv_label\"] == df.iloc[i][\"job_label\"]:\n",
    "            if df.iloc[i][\"similarity\"] > threshold:\n",
    "                true_positive = np.append(true_positive, df.iloc[i][\"similarity\"])\n",
    "            else:\n",
    "                false_negative = np.append(false_negative, df.iloc[i][\"similarity\"])\n",
    "        else:\n",
    "            if df.iloc[i][\"similarity\"] > threshold:\n",
    "                false_positive = np.append(false_positive, df.iloc[i][\"similarity\"])\n",
    "            else:\n",
    "                true_negative = np.append(true_negative, df.iloc[i][\"similarity\"])\n",
    "    \n",
    "    # false positive rate FP / (FP + TN)\n",
    "    fpr = len(false_positive) / (len(false_positive) + len(true_negative))\n",
    "\n",
    "    # true positive rate TP / (TP + FN)\n",
    "    tpr = len(true_positive) / (len(true_positive) + len(false_negative))\n",
    "\n",
    "\n",
    "    return fpr, tpr"
   ]
  },
  {
   "cell_type": "code",
   "execution_count": 15,
   "metadata": {},
   "outputs": [],
   "source": [
    "def generate_roc_curve(df, save_path=\"./data/roc_curve/\", index='default', step=0.01):\n",
    "\n",
    "    threshold_settings = np.arange(0, 1, step)\n",
    "\n",
    "    fpr_arr = np.array([])\n",
    "    tpr_arr = np.array([])\n",
    "\n",
    "    # compute FP and TN for each threshold\n",
    "    for threshold in tqdm(threshold_settings):\n",
    "        fpr, tpr = calculate_fpr_tpr(df, threshold)\n",
    "        fpr_arr = np.append(fpr_arr, fpr)\n",
    "        tpr_arr = np.append(tpr_arr, tpr)\n",
    "    \n",
    "    # plot ROC curve\n",
    "    fig, ax = plt.subplots()\n",
    "    scatter = ax.scatter(fpr_arr, tpr_arr, \n",
    "                        c=threshold_settings,   # Use 'threshold' for color\n",
    "                        cmap='hsv',        # Choose a colormap\n",
    "                        label='Data Points')\n",
    "    # plt.plot(fpr_arr, tpr_arr)\n",
    "\n",
    "    # add labels\n",
    "    cbar = plt.colorbar(scatter, label='Threshold')\n",
    "\n",
    "    plt.xlabel(\"FP Rate\")\n",
    "    plt.ylabel(\"TP Rate\")\n",
    "\n",
    "    plt.savefig(\n",
    "        os.path.join(save_path, f\"{index}.png\"),\n",
    "        dpi=300,\n",
    "    )\n",
    "    plt.close()\n",
    "\n",
    "    # save data\n",
    "    pd.DataFrame({\"threshold\": threshold_settings, \"fpr\": fpr_arr, \"tpr\": tpr_arr}).to_csv(os.path.join(save_path, 'data', f\"{index}.csv\"),)\n",
    "    "
   ]
  },
  {
   "cell_type": "code",
   "execution_count": 16,
   "metadata": {},
   "outputs": [],
   "source": [
    "def generate_roc_curve_seperate(df, save_path=\"./data/roc_curve/\", step=0.01):\n",
    "\n",
    "    category_arr = df['cv_label'].unique()\n",
    "\n",
    "    threshold_settings = np.arange(0, 1, step)\n",
    "\n",
    "    fpr_arr = np.array([])\n",
    "    tpr_arr = np.array([])\n",
    "\n",
    "    # compute FP and TN for each threshold\n",
    "    print(\"calculating FP and TN for each threshold...\")\n",
    "    with tqdm(total=len(category_arr) * len(threshold_settings)) as pbar:\n",
    "        for category in category_arr:\n",
    "            df_tmp = df[df['cv_label'] == category]\n",
    "            for threshold in threshold_settings:\n",
    "                fpr, tpr = calculate_fpr_tpr(df_tmp, threshold)\n",
    "                fpr_arr = np.append(fpr_arr, fpr)\n",
    "                tpr_arr = np.append(tpr_arr, tpr)\n",
    "                pbar.update(1)\n",
    "    \n",
    "    # plot ROC curve\n",
    "    print(\"plotting roc curves...\")\n",
    "    with tqdm(total=len(category_arr)) as pbar:\n",
    "        for i in range(len(category_arr)):\n",
    "            index = i*len(threshold_settings)\n",
    "\n",
    "            fig, ax = plt.subplots()\n",
    "            scatter = ax.scatter(fpr_arr[index:index+len(threshold_settings)], tpr_arr[index:index+len(threshold_settings)], \n",
    "                        c=threshold_settings,  # Use 'threshold' for color\n",
    "                        cmap='hsv',  # Choose a colormap\n",
    "                        label='Data Points')\n",
    "\n",
    "            plt.xlabel(\"FP Rate\")\n",
    "            plt.ylabel(\"TP Rate\")\n",
    "\n",
    "            # add labels\n",
    "            cbar = plt.colorbar(scatter, label='Threshold')\n",
    "\n",
    "            plt.savefig(\n",
    "                os.path.join(save_path, f\"{category_arr[i]}.png\"),\n",
    "                dpi=300,\n",
    "            )\n",
    "            plt.close()\n",
    "\n",
    "            # save data\n",
    "            pd.DataFrame({\n",
    "                \"threshold\": threshold_settings,\n",
    "                \"fpr\": fpr_arr[index:index+len(threshold_settings)],\n",
    "                \"tpr\": tpr_arr[index:index+len(threshold_settings)]\n",
    "            }).to_csv(os.path.join(save_path, 'data', f\"{category_arr[i]}.csv\"),)\n",
    "\n",
    "            pbar.update(1)\n",
    "    \n",
    "    # plot all ROC curves in one plot\n",
    "    print(\"plotting all ROC curves in one plot...\")\n",
    "\n",
    "    # generate plot figure\n",
    "    number_of_subplots = math.ceil(len(category_arr) / 5)\n",
    "    fig, axes = plt.subplots(number_of_subplots, 5, figsize=(24, 8), gridspec_kw={'hspace': 0.4, 'wspace': 0.3})\n",
    "    # Flatten the 2D array of axes for easier indexing\n",
    "    axes = axes.flatten()\n",
    "\n",
    "    with tqdm(total=len(category_arr)) as pbar:\n",
    "        for i in range(len(category_arr)):\n",
    "            index = i*len(threshold_settings)\n",
    "            \n",
    "            # plot subplot            \n",
    "            scatter = axes[i].scatter(fpr_arr[index:index+len(threshold_settings)], tpr_arr[index:index+len(threshold_settings)], \n",
    "                            c=threshold_settings,\n",
    "                            cmap='hsv',\n",
    "                            label='Data Points')\n",
    "\n",
    "            # set labels\n",
    "            axes[i].text(0.5, -0.25, f'{chr(97 + i)}) {category_arr[i]}', fontsize=12, horizontalalignment='center', verticalalignment='center', transform=axes[i].transAxes)\n",
    "            axes[i].set_xlabel('FP Rate')\n",
    "            axes[i].set_ylabel('TP Rate')\n",
    "         \n",
    "            pbar.update(1)\n",
    "\n",
    "    fig.subplots_adjust(right=0.87)\n",
    "    cbar_ax = fig.add_axes([0.88, 0.12, 0.01, 0.76])\n",
    "    fig.colorbar(scatter, cax=cbar_ax)\n",
    "\n",
    "    plt.savefig(\n",
    "        os.path.join(save_path, 'all_categories.png'),\n",
    "        dpi=400,\n",
    "    )\n",
    "    plt.close()\n"
   ]
  },
  {
   "cell_type": "code",
   "execution_count": 26,
   "metadata": {},
   "outputs": [
    {
     "data": {
      "application/vnd.jupyter.widget-view+json": {
       "model_id": "733b9b63c88b4d7a8fef5c90dee41485",
       "version_major": 2,
       "version_minor": 0
      },
      "text/plain": [
       "  0%|          | 0/100 [00:00<?, ?it/s]"
      ]
     },
     "metadata": {},
     "output_type": "display_data"
    }
   ],
   "source": [
    "generate_roc_curve(df, save_path='./data/roc_curve_method2/concept_model/', index='full_data', step=0.01)"
   ]
  },
  {
   "cell_type": "code",
   "execution_count": 27,
   "metadata": {},
   "outputs": [
    {
     "name": "stdout",
     "output_type": "stream",
     "text": [
      "calculating FP and TN for each threshold...\n"
     ]
    },
    {
     "data": {
      "application/vnd.jupyter.widget-view+json": {
       "model_id": "33fb73d2c07c4997ad50a251407559c5",
       "version_major": 2,
       "version_minor": 0
      },
      "text/plain": [
       "  0%|          | 0/1000 [00:00<?, ?it/s]"
      ]
     },
     "metadata": {},
     "output_type": "display_data"
    },
    {
     "name": "stdout",
     "output_type": "stream",
     "text": [
      "plotting roc curves...\n"
     ]
    },
    {
     "data": {
      "application/vnd.jupyter.widget-view+json": {
       "model_id": "413b9f1542ee4d2481a5fecf01868e42",
       "version_major": 2,
       "version_minor": 0
      },
      "text/plain": [
       "  0%|          | 0/10 [00:00<?, ?it/s]"
      ]
     },
     "metadata": {},
     "output_type": "display_data"
    },
    {
     "name": "stdout",
     "output_type": "stream",
     "text": [
      "plotting all ROC curves in one plot...\n"
     ]
    },
    {
     "data": {
      "application/vnd.jupyter.widget-view+json": {
       "model_id": "3b013abb3f714b8eb0c283ad0ee94233",
       "version_major": 2,
       "version_minor": 0
      },
      "text/plain": [
       "  0%|          | 0/10 [00:00<?, ?it/s]"
      ]
     },
     "metadata": {},
     "output_type": "display_data"
    }
   ],
   "source": [
    "generate_roc_curve_seperate(df, save_path='./data/roc_curve_method2/concept_model/', step=0.01)"
   ]
  },
  {
   "cell_type": "code",
   "execution_count": 17,
   "metadata": {},
   "outputs": [],
   "source": [
    "tmp_df = pd.read_csv('./data/roc_curve/data/Blockchain.csv', index_col=0)"
   ]
  },
  {
   "cell_type": "code",
   "execution_count": 18,
   "metadata": {},
   "outputs": [
    {
     "data": {
      "text/html": [
       "<div>\n",
       "<style scoped>\n",
       "    .dataframe tbody tr th:only-of-type {\n",
       "        vertical-align: middle;\n",
       "    }\n",
       "\n",
       "    .dataframe tbody tr th {\n",
       "        vertical-align: top;\n",
       "    }\n",
       "\n",
       "    .dataframe thead th {\n",
       "        text-align: right;\n",
       "    }\n",
       "</style>\n",
       "<table border=\"1\" class=\"dataframe\">\n",
       "  <thead>\n",
       "    <tr style=\"text-align: right;\">\n",
       "      <th></th>\n",
       "      <th>threshold</th>\n",
       "      <th>fpr</th>\n",
       "      <th>tpr</th>\n",
       "    </tr>\n",
       "  </thead>\n",
       "  <tbody>\n",
       "    <tr>\n",
       "      <th>0</th>\n",
       "      <td>0.00</td>\n",
       "      <td>1.0</td>\n",
       "      <td>1.0</td>\n",
       "    </tr>\n",
       "    <tr>\n",
       "      <th>1</th>\n",
       "      <td>0.01</td>\n",
       "      <td>1.0</td>\n",
       "      <td>1.0</td>\n",
       "    </tr>\n",
       "    <tr>\n",
       "      <th>2</th>\n",
       "      <td>0.02</td>\n",
       "      <td>1.0</td>\n",
       "      <td>1.0</td>\n",
       "    </tr>\n",
       "    <tr>\n",
       "      <th>3</th>\n",
       "      <td>0.03</td>\n",
       "      <td>1.0</td>\n",
       "      <td>1.0</td>\n",
       "    </tr>\n",
       "    <tr>\n",
       "      <th>4</th>\n",
       "      <td>0.04</td>\n",
       "      <td>1.0</td>\n",
       "      <td>1.0</td>\n",
       "    </tr>\n",
       "    <tr>\n",
       "      <th>...</th>\n",
       "      <td>...</td>\n",
       "      <td>...</td>\n",
       "      <td>...</td>\n",
       "    </tr>\n",
       "    <tr>\n",
       "      <th>95</th>\n",
       "      <td>0.95</td>\n",
       "      <td>0.0</td>\n",
       "      <td>0.0</td>\n",
       "    </tr>\n",
       "    <tr>\n",
       "      <th>96</th>\n",
       "      <td>0.96</td>\n",
       "      <td>0.0</td>\n",
       "      <td>0.0</td>\n",
       "    </tr>\n",
       "    <tr>\n",
       "      <th>97</th>\n",
       "      <td>0.97</td>\n",
       "      <td>0.0</td>\n",
       "      <td>0.0</td>\n",
       "    </tr>\n",
       "    <tr>\n",
       "      <th>98</th>\n",
       "      <td>0.98</td>\n",
       "      <td>0.0</td>\n",
       "      <td>0.0</td>\n",
       "    </tr>\n",
       "    <tr>\n",
       "      <th>99</th>\n",
       "      <td>0.99</td>\n",
       "      <td>0.0</td>\n",
       "      <td>0.0</td>\n",
       "    </tr>\n",
       "  </tbody>\n",
       "</table>\n",
       "<p>100 rows × 3 columns</p>\n",
       "</div>"
      ],
      "text/plain": [
       "    threshold  fpr  tpr\n",
       "0        0.00  1.0  1.0\n",
       "1        0.01  1.0  1.0\n",
       "2        0.02  1.0  1.0\n",
       "3        0.03  1.0  1.0\n",
       "4        0.04  1.0  1.0\n",
       "..        ...  ...  ...\n",
       "95       0.95  0.0  0.0\n",
       "96       0.96  0.0  0.0\n",
       "97       0.97  0.0  0.0\n",
       "98       0.98  0.0  0.0\n",
       "99       0.99  0.0  0.0\n",
       "\n",
       "[100 rows x 3 columns]"
      ]
     },
     "execution_count": 18,
     "metadata": {},
     "output_type": "execute_result"
    }
   ],
   "source": [
    "tmp_df"
   ]
  },
  {
   "cell_type": "code",
   "execution_count": 19,
   "metadata": {},
   "outputs": [],
   "source": [
    "fpr_arr = tmp_df['fpr'].values\n",
    "tpr_arr = tmp_df['tpr'].values\n",
    "threshold_settings = tmp_df['threshold'].values"
   ]
  },
  {
   "cell_type": "code",
   "execution_count": 20,
   "metadata": {},
   "outputs": [],
   "source": [
    "index = 0"
   ]
  },
  {
   "cell_type": "code",
   "execution_count": 48,
   "metadata": {},
   "outputs": [
    {
     "data": {
      "image/png": "[encoded data removed]",
      "text/plain": [
       "<Figure size 432x288 with 2 Axes>"
      ]
     },
     "metadata": {
      "needs_background": "light"
     },
     "output_type": "display_data"
    }
   ],
   "source": [
    "fig, ax = plt.subplots()\n",
    "scatter = ax.scatter(fpr_arr[index:index+len(threshold_settings)], tpr_arr[index:index+len(threshold_settings)], \n",
    "            c=tmp_df['threshold'],  # Use 'threshold' for color\n",
    "            cmap='hsv',  # Choose a colormap\n",
    "            label='Data Points')\n",
    "\n",
    "plt.xlabel(\"FP Rate\")\n",
    "plt.ylabel(\"TP Rate\")\n",
    "\n",
    "            # add labels\n",
    "# for x in range(len(threshold_settings)):\n",
    "#     ax.annotate(threshold_settings[x], (fpr_arr[index:index+x], tpr_arr[index:index+x]))\n",
    "\n",
    "cbar = plt.colorbar(scatter, label='Threshold')\n",
    "\n",
    "# Add legend\n",
    "# legend = ax.legend(loc='upper right', title='Legend Title')\n",
    "# legend.legendHandles[0]._sizes = [30]  # Adjust marker size in legend\n",
    "\n",
    "plt.show()\n",
    "# plt.savefig(\n",
    "#     os.path.join(save_path, f\"{category_arr[i]}.png\"),\n",
    "#     dpi=300,\n",
    "# )\n",
    "# plt.close()"
   ]
  },
  {
   "cell_type": "code",
   "execution_count": 49,
   "metadata": {},
   "outputs": [],
   "source": [
    "import glob"
   ]
  },
  {
   "cell_type": "code",
   "execution_count": 65,
   "metadata": {},
   "outputs": [],
   "source": [
    "files = [os.path.normpath(f) for f in glob.glob(os.path.join('./data/roc_curve/data', \"*.csv\"))]"
   ]
  },
  {
   "cell_type": "code",
   "execution_count": 66,
   "metadata": {},
   "outputs": [],
   "source": [
    "category_arr = [os.path.basename(file).split('.')[0] for file in files]"
   ]
  },
  {
   "cell_type": "code",
   "execution_count": 97,
   "metadata": {},
   "outputs": [
    {
     "data": {
      "application/vnd.jupyter.widget-view+json": {
       "model_id": "2506f17e9fd9441e8505cffc12e408c0",
       "version_major": 2,
       "version_minor": 0
      },
      "text/plain": [
       "  0%|          | 0/10 [00:00<?, ?it/s]"
      ]
     },
     "metadata": {},
     "output_type": "display_data"
    },
    {
     "data": {
      "text/plain": [
       "<matplotlib.colorbar.Colorbar at 0x139df808d60>"
      ]
     },
     "execution_count": 97,
     "metadata": {},
     "output_type": "execute_result"
    },
    {
     "data": {
      "image/png": "[encoded data removed]",
      "text/plain": [
       "<Figure size 1728x576 with 11 Axes>"
      ]
     },
     "metadata": {
      "needs_background": "light"
     },
     "output_type": "display_data"
    }
   ],
   "source": [
    "threshold_settings = np.arange(0, 1, 0.05)\n",
    "\n",
    "# generate plot figure\n",
    "number_of_subplots = math.ceil(len(category_arr) / 5)\n",
    "fig, axes = plt.subplots(number_of_subplots, 5, figsize=(24, 8), gridspec_kw={'hspace': 0.4, 'wspace': 0.3})\n",
    "# Flatten the 2D array of axes for easier indexing\n",
    "axes = axes.flatten()\n",
    "\n",
    "with tqdm(total=len(files)) as pbar:\n",
    "    for i in range(len(files)):\n",
    "        index = i*len(threshold_settings)\n",
    "\n",
    "        tmp_df = pd.read_csv(files[i], index_col=0)\n",
    "            \n",
    "        # plot subplot            \n",
    "        scatter = axes[i].scatter(tmp_df['fpr'], tmp_df['tpr'], \n",
    "                                    c=tmp_df['threshold'],\n",
    "                                    cmap='hsv',\n",
    "                                    label='Data Points')\n",
    "\n",
    "        # set labels\n",
    "        axes[i].text(0.5, -0.25, f'{chr(97 + i)}) {category_arr[i]}', fontsize=12, horizontalalignment='center', verticalalignment='center', transform=axes[i].transAxes)\n",
    "        axes[i].set_xlabel('FP Rate')\n",
    "        axes[i].set_ylabel('TP Rate')\n",
    "            \n",
    "        pbar.update(1)\n",
    "\n",
    "fig.subplots_adjust(right=0.87)\n",
    "cbar_ax = fig.add_axes([0.88, 0.12, 0.01, 0.76])\n",
    "fig.colorbar(scatter, cax=cbar_ax)"
   ]
  }
 ],
 "metadata": {
  "kernelspec": {
   "display_name": "Python 3",
   "language": "python",
   "name": "python3"
  },
  "language_info": {
   "codemirror_mode": {
    "name": "ipython",
    "version": 3
   },
   "file_extension": ".py",
   "mimetype": "text/x-python",
   "name": "python",
   "nbconvert_exporter": "python",
   "pygments_lexer": "ipython3",
   "version": "3.10.4"
  }
 },
 "nbformat": 4,
 "nbformat_minor": 2
}
