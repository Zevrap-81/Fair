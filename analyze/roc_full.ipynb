{
 "cells": [
  {
   "cell_type": "code",
   "execution_count": 1,
   "metadata": {},
   "outputs": [],
   "source": [
    "import pandas as pd\n",
    "import matplotlib.pyplot as plt\n",
    "import os\n",
    "import glob\n",
    "\n",
    "from scipy.integrate import simpson\n",
    "from numpy import trapz\n",
    "from sklearn import metrics\n",
    "\n",
    "import math\n",
    "from tqdm.notebook import tqdm"
   ]
  },
  {
   "cell_type": "code",
   "execution_count": 2,
   "metadata": {},
   "outputs": [],
   "source": [
    "df1_full = pd.read_csv(\"./data/roc_curve_method1/base_model/data/full_data.csv\", index_col=0)\n",
    "df2_full = pd.read_csv(\"./data/roc_curve_method2/base_model/data/full_data.csv\", index_col=0)"
   ]
  },
  {
   "cell_type": "code",
   "execution_count": 3,
   "metadata": {},
   "outputs": [],
   "source": [
    "df1_job = pd.read_csv(\"./data/roc_curve_method1/job_model/data/full_data.csv\", index_col=0)\n",
    "df2_job = pd.read_csv(\"./data/roc_curve_method2/job_model/data/full_data.csv\", index_col=0)"
   ]
  },
  {
   "cell_type": "code",
   "execution_count": 4,
   "metadata": {},
   "outputs": [],
   "source": [
    "df1_concept = pd.read_csv(\"./data/roc_curve_method1/concept_model/data/full_data.csv\", index_col=0)\n",
    "df2_concept = pd.read_csv(\"./data/roc_curve_method2/concept_model/data/full_data.csv\", index_col=0)"
   ]
  },
  {
   "cell_type": "code",
   "execution_count": 86,
   "metadata": {},
   "outputs": [
    {
     "name": "stdout",
     "output_type": "stream",
     "text": [
      "trapz: 0.6022, simpson: 0.6022, diff: 1.1102230246251565e-16\n"
     ]
    }
   ],
   "source": [
    "# generating auc score\n",
    "# area_trapz = trapz(df1['tpr'], df1['threshold'])\n",
    "# area_simpson = simpson(df1['tpr'], df1['threshold'])\n",
    "# print(f\"trapz: {area_trapz:.4f}, simpson: {area_simpson:.4f}, diff: {area_trapz - area_simpson}\")"
   ]
  },
  {
   "cell_type": "code",
   "execution_count": 88,
   "metadata": {},
   "outputs": [
    {
     "name": "stdout",
     "output_type": "stream",
     "text": [
      "AUC Score Evaluation:\n",
      "Full Model: method1: 0.6022, method2: 0.7028\n",
      "Job Model: method1: 0.6044, method2: 0.7046\n",
      "Concept Model: method1: 0.6044, method2: 0.7047\n"
     ]
    }
   ],
   "source": [
    "print(\"AUC Score Evaluation:\")\n",
    "print(f\"Full Model: method1: {trapz(df1_full['tpr'], df1_full['threshold']):.4f}, method2: {trapz(df2_full['tpr'], df2_full['threshold']):.4f}\")\n",
    "print(f\"Job Model: method1: {trapz(df1_job['tpr'], df1_job['threshold']):.4f}, method2: {trapz(df2_job['tpr'], df2_job['threshold']):.4f}\")\n",
    "print(f\"Concept Model: method1: {trapz(df1_concept['tpr'], df1_concept['threshold']):.4f}, method2: {trapz(df2_concept['tpr'], df2_concept['threshold']):.4f}\")"
   ]
  },
  {
   "cell_type": "code",
   "execution_count": 8,
   "metadata": {},
   "outputs": [],
   "source": [
    "# plot ROC curve\n",
    "df_tmp = df2_job\n",
    "fig, ax = plt.subplots()\n",
    "scatter = ax.scatter(df_tmp['fpr'], df_tmp['tpr'], \n",
    "                        c=df_tmp['threshold'],   # Use 'threshold' for color\n",
    "                        cmap='hsv',        # Choose a colormap\n",
    "                        label='Data Points')\n",
    "\n",
    "# add labels\n",
    "cbar = plt.colorbar(scatter, label='Threshold')\n",
    "\n",
    "# ax.plot(df2['fpr'], df2['tpr'], color=\"red\", linewidth=3, label=\"ROC Curve\")\n",
    "\n",
    "# generate and display auc score\n",
    "auc = metrics.auc(df_tmp['fpr'], df_tmp['tpr'])\n",
    "\n",
    "textstr = f'AUC={auc:.2f}'\n",
    "# props = dict(boxstyle='round', facecolor='lightgrey', alpha=0.5)\n",
    "props = dict(boxstyle='round', facecolor='wheat', alpha=0.5)\n",
    "ax.text(0.73, 0.1, textstr, transform=ax.transAxes, fontsize=12,\n",
    "        verticalalignment='top', bbox=props)\n",
    "# plt.text(0.72, 0, f'AUC: {auc:.2f}', fontsize = 14)\n",
    "\n",
    "plt.xlabel(\"FP Rate\")\n",
    "plt.ylabel(\"TP Rate\")\n",
    "\n",
    "plt.savefig(\n",
    "     './data/roc_curve_method2/job_model/full_data.png',\n",
    "     dpi=300,\n",
    ")\n",
    "plt.close()\n",
    "\n",
    "# plt.show()"
   ]
  },
  {
   "cell_type": "code",
   "execution_count": 13,
   "metadata": {},
   "outputs": [
    {
     "data": {
      "application/vnd.jupyter.widget-view+json": {
       "model_id": "902c1cb62e184bfba81e5abb51926d0a",
       "version_major": 2,
       "version_minor": 0
      },
      "text/plain": [
       "  0%|          | 0/10 [00:00<?, ?it/s]"
      ]
     },
     "metadata": {},
     "output_type": "display_data"
    }
   ],
   "source": [
    "# get all files in folder\n",
    "files = [os.path.normpath(f) for f in glob.glob(os.path.join(\"./data/roc_curve_method1/job_model/data\", \"*.csv\"))]\n",
    "\n",
    "for idx, file in enumerate(files):\n",
    "    if os.path.basename(file) == 'full_data.csv':\n",
    "        files.pop(idx)\n",
    "\n",
    "# generate plot figure\n",
    "number_of_subplots = math.ceil(len(files) / 5)\n",
    "fig, axes = plt.subplots(number_of_subplots, 5, figsize=(24, 8), gridspec_kw={'hspace': 0.4, 'wspace': 0.3})\n",
    "# Flatten the 2D array of axes for easier indexing\n",
    "axes = axes.flatten()\n",
    "\n",
    "with tqdm(total=len(files)) as pbar:\n",
    "    for i in range(len(files)):\n",
    "        df = pd.read_csv(files[i], index_col=0)\n",
    "        category = os.path.basename(files[i]).split('.')[0]\n",
    "        fpr_arr = df['fpr'].to_list()\n",
    "        tpr_arr = df['tpr'].to_list()\n",
    "        threshold_settings = df['threshold']\n",
    "\n",
    "        index = i*len(threshold_settings)\n",
    "            \n",
    "        # plot subplot            \n",
    "        scatter = axes[i].scatter(fpr_arr, tpr_arr, \n",
    "                                    c=threshold_settings,\n",
    "                                    cmap='hsv',\n",
    "                                    label='Data Points')\n",
    "\n",
    "        # add AUC score\n",
    "        auc = metrics.auc(fpr_arr, tpr_arr)\n",
    "        \n",
    "        textstr = f'AUC={auc:.2f}'\n",
    "        props = dict(boxstyle='round', facecolor='wheat', alpha=0.5)\n",
    "        axes[i].text(0.67, 0.12, textstr, transform=axes[i].transAxes, fontsize=12,\n",
    "                verticalalignment='top', bbox=props)\n",
    "\n",
    "        # set labels\n",
    "        axes[i].text(0.5, -0.25, f'{chr(97 + i)}) {category}', fontsize=12, horizontalalignment='center', verticalalignment='center', transform=axes[i].transAxes)\n",
    "        axes[i].set_xlabel('FP Rate')\n",
    "        axes[i].set_ylabel('TP Rate')\n",
    "         \n",
    "        pbar.update(1)\n",
    "\n",
    "fig.subplots_adjust(right=0.87)\n",
    "cbar_ax = fig.add_axes([0.88, 0.12, 0.01, 0.76])\n",
    "fig.colorbar(scatter, cax=cbar_ax)\n",
    "\n",
    "# plt.show()\n",
    "plt.savefig(\n",
    "    './data/roc_curve_method1/job_model/all_categories.png',\n",
    "    dpi=400,\n",
    ")\n",
    "plt.close()"
   ]
  },
  {
   "cell_type": "code",
   "execution_count": null,
   "metadata": {},
   "outputs": [],
   "source": []
  }
 ],
 "metadata": {
  "kernelspec": {
   "display_name": "Python 3",
   "language": "python",
   "name": "python3"
  },
  "language_info": {
   "codemirror_mode": {
    "name": "ipython",
    "version": 3
   },
   "file_extension": ".py",
   "mimetype": "text/x-python",
   "name": "python",
   "nbconvert_exporter": "python",
   "pygments_lexer": "ipython3",
   "version": "3.10.4"
  }
 },
 "nbformat": 4,
 "nbformat_minor": 2
}
