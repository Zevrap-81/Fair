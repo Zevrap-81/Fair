{
 "cells": [
  {
   "cell_type": "code",
   "execution_count": 1,
   "metadata": {},
   "outputs": [],
   "source": [
    "import pandas as pd"
   ]
  },
  {
   "cell_type": "code",
   "execution_count": 2,
   "metadata": {},
   "outputs": [],
   "source": [
    "df = pd.read_csv('./data/job_announce_result.csv', index_col=0)"
   ]
  },
  {
   "cell_type": "code",
   "execution_count": 3,
   "metadata": {},
   "outputs": [
    {
     "data": {
      "text/html": [
       "<div>\n",
       "<style scoped>\n",
       "    .dataframe tbody tr th:only-of-type {\n",
       "        vertical-align: middle;\n",
       "    }\n",
       "\n",
       "    .dataframe tbody tr th {\n",
       "        vertical-align: top;\n",
       "    }\n",
       "\n",
       "    .dataframe thead th {\n",
       "        text-align: right;\n",
       "    }\n",
       "</style>\n",
       "<table border=\"1\" class=\"dataframe\">\n",
       "  <thead>\n",
       "    <tr style=\"text-align: right;\">\n",
       "      <th></th>\n",
       "      <th>title</th>\n",
       "      <th>category</th>\n",
       "      <th>id</th>\n",
       "      <th>job_description</th>\n",
       "    </tr>\n",
       "  </thead>\n",
       "  <tbody>\n",
       "    <tr>\n",
       "      <th>0</th>\n",
       "      <td>Junior Trader - Crypto &amp; Blockchain</td>\n",
       "      <td>Blockchain</td>\n",
       "      <td>1adb8bca36d59253</td>\n",
       "      <td>\\n\\nCompany Overview\\n CoinUnited is a leading...</td>\n",
       "    </tr>\n",
       "    <tr>\n",
       "      <th>1</th>\n",
       "      <td>Operation Officer - Crypto &amp; Blockchain</td>\n",
       "      <td>Blockchain</td>\n",
       "      <td>058df7615d1d14ba</td>\n",
       "      <td>\\n\\nCompany Overview\\n CoinUnited is a leading...</td>\n",
       "    </tr>\n",
       "    <tr>\n",
       "      <th>2</th>\n",
       "      <td>Overnight NOC Technician</td>\n",
       "      <td>Blockchain</td>\n",
       "      <td>0c9c5c88754aba0c</td>\n",
       "      <td>As a NOC Technician, you will be responsible f...</td>\n",
       "    </tr>\n",
       "    <tr>\n",
       "      <th>3</th>\n",
       "      <td>React and Blockchain Developer (remote)</td>\n",
       "      <td>Blockchain</td>\n",
       "      <td>69db99acb41119db</td>\n",
       "      <td>\\nAbout us\\nVelvetech is an American global so...</td>\n",
       "    </tr>\n",
       "    <tr>\n",
       "      <th>4</th>\n",
       "      <td>Underwriting Assistant: E&amp;S Commercial Property</td>\n",
       "      <td>Blockchain</td>\n",
       "      <td>04bf6705a80dfa4a</td>\n",
       "      <td>\\nCOMPANY INTRO\\n Agribusiness Risk Underwrite...</td>\n",
       "    </tr>\n",
       "  </tbody>\n",
       "</table>\n",
       "</div>"
      ],
      "text/plain": [
       "                                             title    category  \\\n",
       "0              Junior Trader - Crypto & Blockchain  Blockchain   \n",
       "1          Operation Officer - Crypto & Blockchain  Blockchain   \n",
       "2                         Overnight NOC Technician  Blockchain   \n",
       "3          React and Blockchain Developer (remote)  Blockchain   \n",
       "4  Underwriting Assistant: E&S Commercial Property  Blockchain   \n",
       "\n",
       "                 id                                    job_description  \n",
       "0  1adb8bca36d59253  \\n\\nCompany Overview\\n CoinUnited is a leading...  \n",
       "1  058df7615d1d14ba  \\n\\nCompany Overview\\n CoinUnited is a leading...  \n",
       "2  0c9c5c88754aba0c  As a NOC Technician, you will be responsible f...  \n",
       "3  69db99acb41119db  \\nAbout us\\nVelvetech is an American global so...  \n",
       "4  04bf6705a80dfa4a  \\nCOMPANY INTRO\\n Agribusiness Risk Underwrite...  "
      ]
     },
     "execution_count": 3,
     "metadata": {},
     "output_type": "execute_result"
    }
   ],
   "source": [
    "df.head()"
   ]
  },
  {
   "cell_type": "code",
   "execution_count": 5,
   "metadata": {},
   "outputs": [
    {
     "data": {
      "text/html": [
       "<div>\n",
       "<style scoped>\n",
       "    .dataframe tbody tr th:only-of-type {\n",
       "        vertical-align: middle;\n",
       "    }\n",
       "\n",
       "    .dataframe tbody tr th {\n",
       "        vertical-align: top;\n",
       "    }\n",
       "\n",
       "    .dataframe thead th {\n",
       "        text-align: right;\n",
       "    }\n",
       "</style>\n",
       "<table border=\"1\" class=\"dataframe\">\n",
       "  <thead>\n",
       "    <tr style=\"text-align: right;\">\n",
       "      <th></th>\n",
       "      <th>title</th>\n",
       "      <th>category</th>\n",
       "      <th>id</th>\n",
       "      <th>job_description</th>\n",
       "    </tr>\n",
       "  </thead>\n",
       "  <tbody>\n",
       "    <tr>\n",
       "      <th>0</th>\n",
       "      <td>Junior Trader - Crypto &amp; Blockchain</td>\n",
       "      <td>Blockchain</td>\n",
       "      <td>1adb8bca36d59253</td>\n",
       "      <td>\\n\\nCompany Overview\\n CoinUnited is a leading...</td>\n",
       "    </tr>\n",
       "    <tr>\n",
       "      <th>1</th>\n",
       "      <td>Operation Officer - Crypto &amp; Blockchain</td>\n",
       "      <td>Blockchain</td>\n",
       "      <td>058df7615d1d14ba</td>\n",
       "      <td>\\n\\nCompany Overview\\n CoinUnited is a leading...</td>\n",
       "    </tr>\n",
       "    <tr>\n",
       "      <th>2</th>\n",
       "      <td>Overnight NOC Technician</td>\n",
       "      <td>Blockchain</td>\n",
       "      <td>0c9c5c88754aba0c</td>\n",
       "      <td>As a NOC Technician, you will be responsible f...</td>\n",
       "    </tr>\n",
       "    <tr>\n",
       "      <th>3</th>\n",
       "      <td>React and Blockchain Developer (remote)</td>\n",
       "      <td>Blockchain</td>\n",
       "      <td>69db99acb41119db</td>\n",
       "      <td>\\nAbout us\\nVelvetech is an American global so...</td>\n",
       "    </tr>\n",
       "    <tr>\n",
       "      <th>4</th>\n",
       "      <td>Underwriting Assistant: E&amp;S Commercial Property</td>\n",
       "      <td>Blockchain</td>\n",
       "      <td>04bf6705a80dfa4a</td>\n",
       "      <td>\\nCOMPANY INTRO\\n Agribusiness Risk Underwrite...</td>\n",
       "    </tr>\n",
       "    <tr>\n",
       "      <th>5</th>\n",
       "      <td>Blockchain Engineer</td>\n",
       "      <td>Blockchain</td>\n",
       "      <td>3415f42ca76fdaae</td>\n",
       "      <td>\\n\\n\\n   At Hiro, we build developer tools tha...</td>\n",
       "    </tr>\n",
       "    <tr>\n",
       "      <th>6</th>\n",
       "      <td>Player Experience Specialist</td>\n",
       "      <td>Blockchain</td>\n",
       "      <td>72919d36e44d4153</td>\n",
       "      <td>\\nAs a Player Experience Specialist, you will ...</td>\n",
       "    </tr>\n",
       "    <tr>\n",
       "      <th>7</th>\n",
       "      <td>Blockchain Developer</td>\n",
       "      <td>Blockchain</td>\n",
       "      <td>5728956f10fb2e48</td>\n",
       "      <td>Experince: 2+ Years \\n\\n\\n02\\n\\nSoftware Sales...</td>\n",
       "    </tr>\n",
       "    <tr>\n",
       "      <th>8</th>\n",
       "      <td>Web3 Associate / NFT Specialist</td>\n",
       "      <td>Blockchain</td>\n",
       "      <td>5f0663241b28dfe7</td>\n",
       "      <td>\\nAll Fleet Inc is seeking a Web3 Associate to...</td>\n",
       "    </tr>\n",
       "    <tr>\n",
       "      <th>9</th>\n",
       "      <td>Blockchain Protocol Specialist, POKT (a must)</td>\n",
       "      <td>Blockchain</td>\n",
       "      <td>f0e8cd8838239586</td>\n",
       "      <td>\\n\\n\\n\\n   BlockSpaces (blockspaces.io) is loo...</td>\n",
       "    </tr>\n",
       "    <tr>\n",
       "      <th>10</th>\n",
       "      <td>Fraud Analyst - Europe</td>\n",
       "      <td>Blockchain</td>\n",
       "      <td>8e267c0070bc2d6a</td>\n",
       "      <td>\\n\\n\\nLocation\\n\\n     Europe - Remote\\n   \\n\\...</td>\n",
       "    </tr>\n",
       "    <tr>\n",
       "      <th>11</th>\n",
       "      <td>Blockchain consultants</td>\n",
       "      <td>Blockchain</td>\n",
       "      <td>c789d962c3fca97b</td>\n",
       "      <td>\\n\\n\\nMinimum of 5 years of experience in deve...</td>\n",
       "    </tr>\n",
       "    <tr>\n",
       "      <th>12</th>\n",
       "      <td>CoinUnited.io Global Management Trainee Progra...</td>\n",
       "      <td>Blockchain</td>\n",
       "      <td>cd69a8688a7fb769</td>\n",
       "      <td>\\n\\nCompany Overview\\n CoinUnited is a leading...</td>\n",
       "    </tr>\n",
       "    <tr>\n",
       "      <th>13</th>\n",
       "      <td>Administrative Assistant</td>\n",
       "      <td>Blockchain</td>\n",
       "      <td>39738672f92c4950</td>\n",
       "      <td>\\n\\n\\nAbout Us\\n\\n\\n    Chainlink Labs is the ...</td>\n",
       "    </tr>\n",
       "    <tr>\n",
       "      <th>14</th>\n",
       "      <td>Blockchain Operations, Technical Analyst</td>\n",
       "      <td>Blockchain</td>\n",
       "      <td>09501b41884c9a32</td>\n",
       "      <td>\\n\\n\\nAbout Us\\n\\n\\n    Chainlink Labs is the ...</td>\n",
       "    </tr>\n",
       "  </tbody>\n",
       "</table>\n",
       "</div>"
      ],
      "text/plain": [
       "                                                title    category  \\\n",
       "0                 Junior Trader - Crypto & Blockchain  Blockchain   \n",
       "1             Operation Officer - Crypto & Blockchain  Blockchain   \n",
       "2                            Overnight NOC Technician  Blockchain   \n",
       "3             React and Blockchain Developer (remote)  Blockchain   \n",
       "4     Underwriting Assistant: E&S Commercial Property  Blockchain   \n",
       "5                                 Blockchain Engineer  Blockchain   \n",
       "6                        Player Experience Specialist  Blockchain   \n",
       "7                                Blockchain Developer  Blockchain   \n",
       "8                     Web3 Associate / NFT Specialist  Blockchain   \n",
       "9       Blockchain Protocol Specialist, POKT (a must)  Blockchain   \n",
       "10                             Fraud Analyst - Europe  Blockchain   \n",
       "11                             Blockchain consultants  Blockchain   \n",
       "12  CoinUnited.io Global Management Trainee Progra...  Blockchain   \n",
       "13                           Administrative Assistant  Blockchain   \n",
       "14           Blockchain Operations, Technical Analyst  Blockchain   \n",
       "\n",
       "                  id                                    job_description  \n",
       "0   1adb8bca36d59253  \\n\\nCompany Overview\\n CoinUnited is a leading...  \n",
       "1   058df7615d1d14ba  \\n\\nCompany Overview\\n CoinUnited is a leading...  \n",
       "2   0c9c5c88754aba0c  As a NOC Technician, you will be responsible f...  \n",
       "3   69db99acb41119db  \\nAbout us\\nVelvetech is an American global so...  \n",
       "4   04bf6705a80dfa4a  \\nCOMPANY INTRO\\n Agribusiness Risk Underwrite...  \n",
       "5   3415f42ca76fdaae  \\n\\n\\n   At Hiro, we build developer tools tha...  \n",
       "6   72919d36e44d4153  \\nAs a Player Experience Specialist, you will ...  \n",
       "7   5728956f10fb2e48  Experince: 2+ Years \\n\\n\\n02\\n\\nSoftware Sales...  \n",
       "8   5f0663241b28dfe7  \\nAll Fleet Inc is seeking a Web3 Associate to...  \n",
       "9   f0e8cd8838239586  \\n\\n\\n\\n   BlockSpaces (blockspaces.io) is loo...  \n",
       "10  8e267c0070bc2d6a  \\n\\n\\nLocation\\n\\n     Europe - Remote\\n   \\n\\...  \n",
       "11  c789d962c3fca97b  \\n\\n\\nMinimum of 5 years of experience in deve...  \n",
       "12  cd69a8688a7fb769  \\n\\nCompany Overview\\n CoinUnited is a leading...  \n",
       "13  39738672f92c4950  \\n\\n\\nAbout Us\\n\\n\\n    Chainlink Labs is the ...  \n",
       "14  09501b41884c9a32  \\n\\n\\nAbout Us\\n\\n\\n    Chainlink Labs is the ...  "
      ]
     },
     "execution_count": 5,
     "metadata": {},
     "output_type": "execute_result"
    }
   ],
   "source": [
    "df[df['category'] == 'Blockchain']"
   ]
  },
  {
   "cell_type": "code",
   "execution_count": 10,
   "metadata": {},
   "outputs": [],
   "source": [
    "df_new = pd.DataFrame(columns=['title', 'category',  'id', 'job_description'])"
   ]
  },
  {
   "cell_type": "code",
   "execution_count": 49,
   "metadata": {},
   "outputs": [
    {
     "data": {
      "text/html": [
       "<div>\n",
       "<style scoped>\n",
       "    .dataframe tbody tr th:only-of-type {\n",
       "        vertical-align: middle;\n",
       "    }\n",
       "\n",
       "    .dataframe tbody tr th {\n",
       "        vertical-align: top;\n",
       "    }\n",
       "\n",
       "    .dataframe thead th {\n",
       "        text-align: right;\n",
       "    }\n",
       "</style>\n",
       "<table border=\"1\" class=\"dataframe\">\n",
       "  <thead>\n",
       "    <tr style=\"text-align: right;\">\n",
       "      <th></th>\n",
       "      <th>title</th>\n",
       "      <th>category</th>\n",
       "      <th>id</th>\n",
       "      <th>job_description</th>\n",
       "    </tr>\n",
       "  </thead>\n",
       "  <tbody>\n",
       "    <tr>\n",
       "      <th>135</th>\n",
       "      <td>Web Development Opportunities</td>\n",
       "      <td>Web Designing</td>\n",
       "      <td>0284ef416637d96e</td>\n",
       "      <td>\\n\\n\\n   Remote \\n  \\n\\n   Full-time, 40 hours...</td>\n",
       "    </tr>\n",
       "    <tr>\n",
       "      <th>136</th>\n",
       "      <td>Web Application Developer</td>\n",
       "      <td>Web Designing</td>\n",
       "      <td>226ba6fd797bbdd6</td>\n",
       "      <td>\\n Overview: \\n  The EPA National Student Serv...</td>\n",
       "    </tr>\n",
       "    <tr>\n",
       "      <th>137</th>\n",
       "      <td>Application Developer (Entry-Level)</td>\n",
       "      <td>Web Designing</td>\n",
       "      <td>b6766e20683c694f</td>\n",
       "      <td>\\n\\n\\n\\n\\nLocation\\n\\n\\n    North America, Wor...</td>\n",
       "    </tr>\n",
       "    <tr>\n",
       "      <th>138</th>\n",
       "      <td>Frontend Developer - Web Team</td>\n",
       "      <td>Web Designing</td>\n",
       "      <td>d1ce7d5d55dbd45d</td>\n",
       "      <td>\\n\\n  About CES:\\n \\n\\n\\n At CES we have a bol...</td>\n",
       "    </tr>\n",
       "    <tr>\n",
       "      <th>139</th>\n",
       "      <td>Web Designer</td>\n",
       "      <td>Web Designing</td>\n",
       "      <td>726fa43a986822f0</td>\n",
       "      <td>\\n Overview: \\n \\n   The Web Designer works on...</td>\n",
       "    </tr>\n",
       "    <tr>\n",
       "      <th>140</th>\n",
       "      <td>Web Designer</td>\n",
       "      <td>Web Designing</td>\n",
       "      <td>6774ffce6956d58d</td>\n",
       "      <td>\\n Overview: \\n \\n   The Web Designer works on...</td>\n",
       "    </tr>\n",
       "    <tr>\n",
       "      <th>141</th>\n",
       "      <td>Safari Web Intelligence Engineer</td>\n",
       "      <td>Web Designing</td>\n",
       "      <td>3358c2cfb7eaf4ce</td>\n",
       "      <td>\\nSummary\\n\\n Posted: Oct 23, 2023 \\n \\n Weekl...</td>\n",
       "    </tr>\n",
       "    <tr>\n",
       "      <th>142</th>\n",
       "      <td>Front End Web Developer</td>\n",
       "      <td>Web Designing</td>\n",
       "      <td>c75fd340665e27f5</td>\n",
       "      <td>\\n\\n\\n\\n\\n\\n\\n\\n\\n\\n\\n\\n\\n\\n             Do yo...</td>\n",
       "    </tr>\n",
       "    <tr>\n",
       "      <th>143</th>\n",
       "      <td>Web Application Developer</td>\n",
       "      <td>Web Designing</td>\n",
       "      <td>3eb7be5a0388cc16</td>\n",
       "      <td>This position will plan, develop, deploy and m...</td>\n",
       "    </tr>\n",
       "    <tr>\n",
       "      <th>144</th>\n",
       "      <td>Engineer I UI</td>\n",
       "      <td>Web Designing</td>\n",
       "      <td>771c436a79ce53dc</td>\n",
       "      <td>\\nCome work at a place where we take pride in ...</td>\n",
       "    </tr>\n",
       "    <tr>\n",
       "      <th>145</th>\n",
       "      <td>Software Developer, Junior</td>\n",
       "      <td>Web Designing</td>\n",
       "      <td>e351c5ec81432374</td>\n",
       "      <td>\\n\\n\\nJob Description\\n\\n\\n\\n\\n\\n\\n\\n\\n\\n\\n   ...</td>\n",
       "    </tr>\n",
       "    <tr>\n",
       "      <th>146</th>\n",
       "      <td>63494R-Intern M Software Engineering</td>\n",
       "      <td>Web Designing</td>\n",
       "      <td>30c3a762dd1e7c8d</td>\n",
       "      <td>\\nSimple Job Description: \\nAs a Web Applicati...</td>\n",
       "    </tr>\n",
       "    <tr>\n",
       "      <th>147</th>\n",
       "      <td>Web Developer</td>\n",
       "      <td>Web Designing</td>\n",
       "      <td>3d046afd7f957854</td>\n",
       "      <td>\\n\\n\\nJob Opening Summary\\n\\n\\n\\n\\n\\nThe web d...</td>\n",
       "    </tr>\n",
       "    <tr>\n",
       "      <th>148</th>\n",
       "      <td>Web Designer</td>\n",
       "      <td>Web Designing</td>\n",
       "      <td>f40e8177008f5147</td>\n",
       "      <td>\\n Overview: \\n \\n   The Web Designer works on...</td>\n",
       "    </tr>\n",
       "    <tr>\n",
       "      <th>149</th>\n",
       "      <td>Front-End Developer</td>\n",
       "      <td>Web Designing</td>\n",
       "      <td>d543caedc83cd2aa</td>\n",
       "      <td>\\nAs a Front End Web Engineer, your responsibi...</td>\n",
       "    </tr>\n",
       "  </tbody>\n",
       "</table>\n",
       "</div>"
      ],
      "text/plain": [
       "                                    title       category                id  \\\n",
       "135         Web Development Opportunities  Web Designing  0284ef416637d96e   \n",
       "136             Web Application Developer  Web Designing  226ba6fd797bbdd6   \n",
       "137   Application Developer (Entry-Level)  Web Designing  b6766e20683c694f   \n",
       "138         Frontend Developer - Web Team  Web Designing  d1ce7d5d55dbd45d   \n",
       "139                          Web Designer  Web Designing  726fa43a986822f0   \n",
       "140                          Web Designer  Web Designing  6774ffce6956d58d   \n",
       "141      Safari Web Intelligence Engineer  Web Designing  3358c2cfb7eaf4ce   \n",
       "142               Front End Web Developer  Web Designing  c75fd340665e27f5   \n",
       "143             Web Application Developer  Web Designing  3eb7be5a0388cc16   \n",
       "144                         Engineer I UI  Web Designing  771c436a79ce53dc   \n",
       "145            Software Developer, Junior  Web Designing  e351c5ec81432374   \n",
       "146  63494R-Intern M Software Engineering  Web Designing  30c3a762dd1e7c8d   \n",
       "147                         Web Developer  Web Designing  3d046afd7f957854   \n",
       "148                          Web Designer  Web Designing  f40e8177008f5147   \n",
       "149                   Front-End Developer  Web Designing  d543caedc83cd2aa   \n",
       "\n",
       "                                       job_description  \n",
       "135  \\n\\n\\n   Remote \\n  \\n\\n   Full-time, 40 hours...  \n",
       "136  \\n Overview: \\n  The EPA National Student Serv...  \n",
       "137  \\n\\n\\n\\n\\nLocation\\n\\n\\n    North America, Wor...  \n",
       "138  \\n\\n  About CES:\\n \\n\\n\\n At CES we have a bol...  \n",
       "139  \\n Overview: \\n \\n   The Web Designer works on...  \n",
       "140  \\n Overview: \\n \\n   The Web Designer works on...  \n",
       "141  \\nSummary\\n\\n Posted: Oct 23, 2023 \\n \\n Weekl...  \n",
       "142  \\n\\n\\n\\n\\n\\n\\n\\n\\n\\n\\n\\n\\n\\n             Do yo...  \n",
       "143  This position will plan, develop, deploy and m...  \n",
       "144  \\nCome work at a place where we take pride in ...  \n",
       "145  \\n\\n\\nJob Description\\n\\n\\n\\n\\n\\n\\n\\n\\n\\n\\n   ...  \n",
       "146  \\nSimple Job Description: \\nAs a Web Applicati...  \n",
       "147  \\n\\n\\nJob Opening Summary\\n\\n\\n\\n\\n\\nThe web d...  \n",
       "148  \\n Overview: \\n \\n   The Web Designer works on...  \n",
       "149  \\nAs a Front End Web Engineer, your responsibi...  "
      ]
     },
     "execution_count": 49,
     "metadata": {},
     "output_type": "execute_result"
    }
   ],
   "source": [
    "df[df['category'] == 'Web Designing']"
   ]
  },
  {
   "cell_type": "code",
   "execution_count": 50,
   "metadata": {},
   "outputs": [],
   "source": [
    "df2 = df[df['category'] == 'Web Designing'].drop(index=[146, 145, 141, 137, 143])"
   ]
  },
  {
   "cell_type": "code",
   "execution_count": 51,
   "metadata": {},
   "outputs": [],
   "source": [
    "df_new = pd.concat([df_new, df2], ignore_index=True)"
   ]
  },
  {
   "cell_type": "code",
   "execution_count": 52,
   "metadata": {},
   "outputs": [
    {
     "data": {
      "text/plain": [
       "100"
      ]
     },
     "execution_count": 52,
     "metadata": {},
     "output_type": "execute_result"
    }
   ],
   "source": [
    "len(df_new)"
   ]
  },
  {
   "cell_type": "code",
   "execution_count": 53,
   "metadata": {},
   "outputs": [],
   "source": [
    "df_new.to_csv('./data/job_announce_result_10.csv')"
   ]
  },
  {
   "cell_type": "code",
   "execution_count": 20,
   "metadata": {},
   "outputs": [
    {
     "data": {
      "text/plain": [
       "150"
      ]
     },
     "execution_count": 20,
     "metadata": {},
     "output_type": "execute_result"
    }
   ],
   "source": [
    "len(df)"
   ]
  },
  {
   "cell_type": "code",
   "execution_count": 13,
   "metadata": {},
   "outputs": [
    {
     "data": {
      "text/plain": [
       "{'Blockchain',\n",
       " 'Data Science',\n",
       " 'DevOps Engineer',\n",
       " 'Electrical Engineering',\n",
       " 'Java Developer',\n",
       " 'Mechanical Engineer',\n",
       " 'Network Security Engineer',\n",
       " 'Python Developer',\n",
       " 'SAP Developer',\n",
       " 'Web Designing'}"
      ]
     },
     "execution_count": 13,
     "metadata": {},
     "output_type": "execute_result"
    }
   ],
   "source": [
    "set(df['category'])"
   ]
  },
  {
   "cell_type": "code",
   "execution_count": 15,
   "metadata": {},
   "outputs": [
    {
     "data": {
      "text/plain": [
       "10"
      ]
     },
     "execution_count": 15,
     "metadata": {},
     "output_type": "execute_result"
    }
   ],
   "source": [
    "len(set(df['category']))"
   ]
  },
  {
   "cell_type": "code",
   "execution_count": null,
   "metadata": {},
   "outputs": [],
   "source": []
  }
 ],
 "metadata": {
  "kernelspec": {
   "display_name": "Python 3",
   "language": "python",
   "name": "python3"
  },
  "language_info": {
   "codemirror_mode": {
    "name": "ipython",
    "version": 3
   },
   "file_extension": ".py",
   "mimetype": "text/x-python",
   "name": "python",
   "nbconvert_exporter": "python",
   "pygments_lexer": "ipython3",
   "version": "3.10.4"
  }
 },
 "nbformat": 4,
 "nbformat_minor": 2
}
